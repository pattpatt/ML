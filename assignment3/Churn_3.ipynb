{
 "cells": [
  {
   "cell_type": "code",
   "execution_count": 42,
   "metadata": {},
   "outputs": [],
   "source": [
    "#Libraries\n",
    "import sklearn as sk\n",
    "from sklearn import preprocessing\n",
    "from sklearn.compose import ColumnTransformer\n",
    "import pandas as pd\n",
    "import os\n",
    "import seaborn as sns\n",
    "import matplotlib.pyplot as plt\n",
    "import numpy as np\n",
    "from sklearn.model_selection import train_test_split\n",
    "from sklearn.model_selection import cross_val_score\n",
    "from sklearn.tree import DecisionTreeClassifier\n",
    "from sklearn import tree\n",
    "from sklearn import metrics\n",
    "from sklearn.metrics import confusion_matrix, accuracy_score\n",
    "from sklearn.model_selection import GridSearchCV, learning_curve\n",
    "from sklearn.pipeline import Pipeline\n",
    "import seaborn as sn\n",
    "import tensorflow as tf\n",
    "from tensorflow import keras\n",
    "from sklearn.preprocessing import StandardScaler\n",
    "from sklearn.neighbors import KNeighborsClassifier\n",
    "from sklearn.metrics import f1_score\n",
    "import math\n",
    "from sklearn.metrics import classification_report\n",
    "import warnings\n",
    "warnings.filterwarnings('ignore')"
   ]
  },
  {
   "cell_type": "code",
   "execution_count": 2,
   "metadata": {},
   "outputs": [
    {
     "data": {
      "text/plain": [
       "'/home/jupyter/Data'"
      ]
     },
     "execution_count": 2,
     "metadata": {},
     "output_type": "execute_result"
    }
   ],
   "source": [
    "import os\n",
    "cwd = os.getcwd()\n",
    "cwd"
   ]
  },
  {
   "cell_type": "markdown",
   "metadata": {},
   "source": [
    "# Load data and EDA"
   ]
  },
  {
   "cell_type": "code",
   "execution_count": 3,
   "metadata": {},
   "outputs": [],
   "source": [
    "#Import datasets\n",
    "df_churn = pd.read_csv(\"../Data/Customers_and_Churn.csv\")\n",
    "\n",
    "\n",
    "df_segm = pd.read_csv('../Data/Online_Retail.csv',encoding=\"ISO-8859-1\",\n",
    "                         dtype={'CustomerID': str,'InvoiceID': str})"
   ]
  },
  {
   "cell_type": "code",
   "execution_count": 4,
   "metadata": {},
   "outputs": [
    {
     "data": {
      "text/html": [
       "<div>\n",
       "<style scoped>\n",
       "    .dataframe tbody tr th:only-of-type {\n",
       "        vertical-align: middle;\n",
       "    }\n",
       "\n",
       "    .dataframe tbody tr th {\n",
       "        vertical-align: top;\n",
       "    }\n",
       "\n",
       "    .dataframe thead th {\n",
       "        text-align: right;\n",
       "    }\n",
       "</style>\n",
       "<table border=\"1\" class=\"dataframe\">\n",
       "  <thead>\n",
       "    <tr style=\"text-align: right;\">\n",
       "      <th></th>\n",
       "      <th>RowNumber</th>\n",
       "      <th>CustomerId</th>\n",
       "      <th>Surname</th>\n",
       "      <th>CreditScore</th>\n",
       "      <th>Geography</th>\n",
       "      <th>Gender</th>\n",
       "      <th>Age</th>\n",
       "      <th>Tenure</th>\n",
       "      <th>Balance</th>\n",
       "      <th>NumOfProducts</th>\n",
       "      <th>HasCrCard</th>\n",
       "      <th>IsActiveMember</th>\n",
       "      <th>EstimatedSalary</th>\n",
       "      <th>Exited</th>\n",
       "    </tr>\n",
       "  </thead>\n",
       "  <tbody>\n",
       "    <tr>\n",
       "      <th>0</th>\n",
       "      <td>1</td>\n",
       "      <td>15634602</td>\n",
       "      <td>Hargrave</td>\n",
       "      <td>619</td>\n",
       "      <td>France</td>\n",
       "      <td>Female</td>\n",
       "      <td>42</td>\n",
       "      <td>2</td>\n",
       "      <td>0.00</td>\n",
       "      <td>1</td>\n",
       "      <td>1</td>\n",
       "      <td>1</td>\n",
       "      <td>101348.88</td>\n",
       "      <td>1</td>\n",
       "    </tr>\n",
       "    <tr>\n",
       "      <th>1</th>\n",
       "      <td>2</td>\n",
       "      <td>15647311</td>\n",
       "      <td>Hill</td>\n",
       "      <td>608</td>\n",
       "      <td>Spain</td>\n",
       "      <td>Female</td>\n",
       "      <td>41</td>\n",
       "      <td>1</td>\n",
       "      <td>83807.86</td>\n",
       "      <td>1</td>\n",
       "      <td>0</td>\n",
       "      <td>1</td>\n",
       "      <td>112542.58</td>\n",
       "      <td>0</td>\n",
       "    </tr>\n",
       "    <tr>\n",
       "      <th>2</th>\n",
       "      <td>3</td>\n",
       "      <td>15619304</td>\n",
       "      <td>Onio</td>\n",
       "      <td>502</td>\n",
       "      <td>France</td>\n",
       "      <td>Female</td>\n",
       "      <td>42</td>\n",
       "      <td>8</td>\n",
       "      <td>159660.80</td>\n",
       "      <td>3</td>\n",
       "      <td>1</td>\n",
       "      <td>0</td>\n",
       "      <td>113931.57</td>\n",
       "      <td>1</td>\n",
       "    </tr>\n",
       "    <tr>\n",
       "      <th>3</th>\n",
       "      <td>4</td>\n",
       "      <td>15701354</td>\n",
       "      <td>Boni</td>\n",
       "      <td>699</td>\n",
       "      <td>France</td>\n",
       "      <td>Female</td>\n",
       "      <td>39</td>\n",
       "      <td>1</td>\n",
       "      <td>0.00</td>\n",
       "      <td>2</td>\n",
       "      <td>0</td>\n",
       "      <td>0</td>\n",
       "      <td>93826.63</td>\n",
       "      <td>0</td>\n",
       "    </tr>\n",
       "    <tr>\n",
       "      <th>4</th>\n",
       "      <td>5</td>\n",
       "      <td>15737888</td>\n",
       "      <td>Mitchell</td>\n",
       "      <td>850</td>\n",
       "      <td>Spain</td>\n",
       "      <td>Female</td>\n",
       "      <td>43</td>\n",
       "      <td>2</td>\n",
       "      <td>125510.82</td>\n",
       "      <td>1</td>\n",
       "      <td>1</td>\n",
       "      <td>1</td>\n",
       "      <td>79084.10</td>\n",
       "      <td>0</td>\n",
       "    </tr>\n",
       "  </tbody>\n",
       "</table>\n",
       "</div>"
      ],
      "text/plain": [
       "   RowNumber  CustomerId   Surname  CreditScore Geography  Gender  Age  \\\n",
       "0          1    15634602  Hargrave          619    France  Female   42   \n",
       "1          2    15647311      Hill          608     Spain  Female   41   \n",
       "2          3    15619304      Onio          502    France  Female   42   \n",
       "3          4    15701354      Boni          699    France  Female   39   \n",
       "4          5    15737888  Mitchell          850     Spain  Female   43   \n",
       "\n",
       "   Tenure    Balance  NumOfProducts  HasCrCard  IsActiveMember  \\\n",
       "0       2       0.00              1          1               1   \n",
       "1       1   83807.86              1          0               1   \n",
       "2       8  159660.80              3          1               0   \n",
       "3       1       0.00              2          0               0   \n",
       "4       2  125510.82              1          1               1   \n",
       "\n",
       "   EstimatedSalary  Exited  \n",
       "0        101348.88       1  \n",
       "1        112542.58       0  \n",
       "2        113931.57       1  \n",
       "3         93826.63       0  \n",
       "4         79084.10       0  "
      ]
     },
     "execution_count": 4,
     "metadata": {},
     "output_type": "execute_result"
    }
   ],
   "source": [
    "# Preview the first 5 lines of the loaded data \n",
    "df_churn.head()"
   ]
  },
  {
   "cell_type": "code",
   "execution_count": 5,
   "metadata": {},
   "outputs": [
    {
     "data": {
      "text/html": [
       "<div>\n",
       "<style scoped>\n",
       "    .dataframe tbody tr th:only-of-type {\n",
       "        vertical-align: middle;\n",
       "    }\n",
       "\n",
       "    .dataframe tbody tr th {\n",
       "        vertical-align: top;\n",
       "    }\n",
       "\n",
       "    .dataframe thead th {\n",
       "        text-align: right;\n",
       "    }\n",
       "</style>\n",
       "<table border=\"1\" class=\"dataframe\">\n",
       "  <thead>\n",
       "    <tr style=\"text-align: right;\">\n",
       "      <th></th>\n",
       "      <th>InvoiceNo</th>\n",
       "      <th>StockCode</th>\n",
       "      <th>Description</th>\n",
       "      <th>Quantity</th>\n",
       "      <th>InvoiceDate</th>\n",
       "      <th>UnitPrice</th>\n",
       "      <th>CustomerID</th>\n",
       "      <th>Country</th>\n",
       "    </tr>\n",
       "  </thead>\n",
       "  <tbody>\n",
       "    <tr>\n",
       "      <th>0</th>\n",
       "      <td>536365</td>\n",
       "      <td>85123A</td>\n",
       "      <td>WHITE HANGING HEART T-LIGHT HOLDER</td>\n",
       "      <td>6</td>\n",
       "      <td>12/1/2010 8:26</td>\n",
       "      <td>2.55</td>\n",
       "      <td>17850</td>\n",
       "      <td>United Kingdom</td>\n",
       "    </tr>\n",
       "    <tr>\n",
       "      <th>1</th>\n",
       "      <td>536365</td>\n",
       "      <td>71053</td>\n",
       "      <td>WHITE METAL LANTERN</td>\n",
       "      <td>6</td>\n",
       "      <td>12/1/2010 8:26</td>\n",
       "      <td>3.39</td>\n",
       "      <td>17850</td>\n",
       "      <td>United Kingdom</td>\n",
       "    </tr>\n",
       "    <tr>\n",
       "      <th>2</th>\n",
       "      <td>536365</td>\n",
       "      <td>84406B</td>\n",
       "      <td>CREAM CUPID HEARTS COAT HANGER</td>\n",
       "      <td>8</td>\n",
       "      <td>12/1/2010 8:26</td>\n",
       "      <td>2.75</td>\n",
       "      <td>17850</td>\n",
       "      <td>United Kingdom</td>\n",
       "    </tr>\n",
       "    <tr>\n",
       "      <th>3</th>\n",
       "      <td>536365</td>\n",
       "      <td>84029G</td>\n",
       "      <td>KNITTED UNION FLAG HOT WATER BOTTLE</td>\n",
       "      <td>6</td>\n",
       "      <td>12/1/2010 8:26</td>\n",
       "      <td>3.39</td>\n",
       "      <td>17850</td>\n",
       "      <td>United Kingdom</td>\n",
       "    </tr>\n",
       "    <tr>\n",
       "      <th>4</th>\n",
       "      <td>536365</td>\n",
       "      <td>84029E</td>\n",
       "      <td>RED WOOLLY HOTTIE WHITE HEART.</td>\n",
       "      <td>6</td>\n",
       "      <td>12/1/2010 8:26</td>\n",
       "      <td>3.39</td>\n",
       "      <td>17850</td>\n",
       "      <td>United Kingdom</td>\n",
       "    </tr>\n",
       "  </tbody>\n",
       "</table>\n",
       "</div>"
      ],
      "text/plain": [
       "  InvoiceNo StockCode                          Description  Quantity  \\\n",
       "0    536365    85123A   WHITE HANGING HEART T-LIGHT HOLDER         6   \n",
       "1    536365     71053                  WHITE METAL LANTERN         6   \n",
       "2    536365    84406B       CREAM CUPID HEARTS COAT HANGER         8   \n",
       "3    536365    84029G  KNITTED UNION FLAG HOT WATER BOTTLE         6   \n",
       "4    536365    84029E       RED WOOLLY HOTTIE WHITE HEART.         6   \n",
       "\n",
       "      InvoiceDate  UnitPrice CustomerID         Country  \n",
       "0  12/1/2010 8:26       2.55      17850  United Kingdom  \n",
       "1  12/1/2010 8:26       3.39      17850  United Kingdom  \n",
       "2  12/1/2010 8:26       2.75      17850  United Kingdom  \n",
       "3  12/1/2010 8:26       3.39      17850  United Kingdom  \n",
       "4  12/1/2010 8:26       3.39      17850  United Kingdom  "
      ]
     },
     "execution_count": 5,
     "metadata": {},
     "output_type": "execute_result"
    }
   ],
   "source": [
    "# Preview the first 5 lines of the loaded data \n",
    "df_segm.head()"
   ]
  },
  {
   "cell_type": "code",
   "execution_count": 6,
   "metadata": {},
   "outputs": [
    {
     "name": "stdout",
     "output_type": "stream",
     "text": [
      "(10000, 14)\n",
      "(541909, 8)\n"
     ]
    }
   ],
   "source": [
    "#Shapes\n",
    "print(df_churn.shape)\n",
    "print(df_segm.shape)"
   ]
  },
  {
   "cell_type": "code",
   "execution_count": 7,
   "metadata": {},
   "outputs": [
    {
     "name": "stdout",
     "output_type": "stream",
     "text": [
      "<class 'pandas.core.frame.DataFrame'>\n",
      "RangeIndex: 10000 entries, 0 to 9999\n",
      "Data columns (total 14 columns):\n",
      " #   Column           Non-Null Count  Dtype  \n",
      "---  ------           --------------  -----  \n",
      " 0   RowNumber        10000 non-null  int64  \n",
      " 1   CustomerId       10000 non-null  int64  \n",
      " 2   Surname          10000 non-null  object \n",
      " 3   CreditScore      10000 non-null  int64  \n",
      " 4   Geography        10000 non-null  object \n",
      " 5   Gender           10000 non-null  object \n",
      " 6   Age              10000 non-null  int64  \n",
      " 7   Tenure           10000 non-null  int64  \n",
      " 8   Balance          10000 non-null  float64\n",
      " 9   NumOfProducts    10000 non-null  int64  \n",
      " 10  HasCrCard        10000 non-null  int64  \n",
      " 11  IsActiveMember   10000 non-null  int64  \n",
      " 12  EstimatedSalary  10000 non-null  float64\n",
      " 13  Exited           10000 non-null  int64  \n",
      "dtypes: float64(2), int64(9), object(3)\n",
      "memory usage: 1.1+ MB\n"
     ]
    }
   ],
   "source": [
    "#QuickEDA\n",
    "df_churn.info()\n",
    "#No "
   ]
  },
  {
   "cell_type": "code",
   "execution_count": 8,
   "metadata": {},
   "outputs": [
    {
     "name": "stdout",
     "output_type": "stream",
     "text": [
      "<class 'pandas.core.frame.DataFrame'>\n",
      "RangeIndex: 541909 entries, 0 to 541908\n",
      "Data columns (total 8 columns):\n",
      " #   Column       Non-Null Count   Dtype  \n",
      "---  ------       --------------   -----  \n",
      " 0   InvoiceNo    541909 non-null  object \n",
      " 1   StockCode    541909 non-null  object \n",
      " 2   Description  540455 non-null  object \n",
      " 3   Quantity     541909 non-null  int64  \n",
      " 4   InvoiceDate  541909 non-null  object \n",
      " 5   UnitPrice    541909 non-null  float64\n",
      " 6   CustomerID   406829 non-null  object \n",
      " 7   Country      541909 non-null  object \n",
      "dtypes: float64(1), int64(1), object(6)\n",
      "memory usage: 33.1+ MB\n"
     ]
    }
   ],
   "source": [
    "df_segm.info()\n",
    "#No null values"
   ]
  },
  {
   "cell_type": "code",
   "execution_count": 9,
   "metadata": {},
   "outputs": [
    {
     "name": "stdout",
     "output_type": "stream",
     "text": [
      "0    0.7963\n",
      "1    0.2037\n",
      "Name: Exited, dtype: float64\n"
     ]
    }
   ],
   "source": [
    "Churn_rate = df_churn['Exited'].value_counts() / df_churn.shape[0]\n",
    "print(Churn_rate)\n",
    "Churn_rate = Churn_rate.to_frame()\n",
    "\n",
    "#sns.catplot(x=Churn_rate.index\n",
    "#            , y=Churn_rate.Exited\n",
    "#            , data = Churn_rate\n",
    "#            , kind='bar')\n",
    "#plt.show()\n",
    "\n",
    "#Churn is about 20%"
   ]
  },
  {
   "cell_type": "code",
   "execution_count": null,
   "metadata": {},
   "outputs": [],
   "source": []
  },
  {
   "cell_type": "code",
   "execution_count": 10,
   "metadata": {},
   "outputs": [
    {
     "data": {
      "text/html": [
       "<div>\n",
       "<style scoped>\n",
       "    .dataframe tbody tr th:only-of-type {\n",
       "        vertical-align: middle;\n",
       "    }\n",
       "\n",
       "    .dataframe tbody tr th {\n",
       "        vertical-align: top;\n",
       "    }\n",
       "\n",
       "    .dataframe thead th {\n",
       "        text-align: right;\n",
       "    }\n",
       "</style>\n",
       "<table border=\"1\" class=\"dataframe\">\n",
       "  <thead>\n",
       "    <tr style=\"text-align: right;\">\n",
       "      <th></th>\n",
       "      <th>CustomerId</th>\n",
       "      <th>CreditScore</th>\n",
       "      <th>Geography</th>\n",
       "      <th>Gender</th>\n",
       "      <th>Age</th>\n",
       "      <th>Tenure</th>\n",
       "      <th>Balance</th>\n",
       "      <th>NumOfProducts</th>\n",
       "      <th>HasCrCard</th>\n",
       "      <th>IsActiveMember</th>\n",
       "      <th>EstimatedSalary</th>\n",
       "      <th>Exited</th>\n",
       "    </tr>\n",
       "  </thead>\n",
       "  <tbody>\n",
       "    <tr>\n",
       "      <th>0</th>\n",
       "      <td>15634602</td>\n",
       "      <td>619</td>\n",
       "      <td>France</td>\n",
       "      <td>Female</td>\n",
       "      <td>42</td>\n",
       "      <td>2</td>\n",
       "      <td>0.00</td>\n",
       "      <td>1</td>\n",
       "      <td>1</td>\n",
       "      <td>1</td>\n",
       "      <td>101348.88</td>\n",
       "      <td>1</td>\n",
       "    </tr>\n",
       "    <tr>\n",
       "      <th>1</th>\n",
       "      <td>15647311</td>\n",
       "      <td>608</td>\n",
       "      <td>Spain</td>\n",
       "      <td>Female</td>\n",
       "      <td>41</td>\n",
       "      <td>1</td>\n",
       "      <td>83807.86</td>\n",
       "      <td>1</td>\n",
       "      <td>0</td>\n",
       "      <td>1</td>\n",
       "      <td>112542.58</td>\n",
       "      <td>0</td>\n",
       "    </tr>\n",
       "    <tr>\n",
       "      <th>2</th>\n",
       "      <td>15619304</td>\n",
       "      <td>502</td>\n",
       "      <td>France</td>\n",
       "      <td>Female</td>\n",
       "      <td>42</td>\n",
       "      <td>8</td>\n",
       "      <td>159660.80</td>\n",
       "      <td>3</td>\n",
       "      <td>1</td>\n",
       "      <td>0</td>\n",
       "      <td>113931.57</td>\n",
       "      <td>1</td>\n",
       "    </tr>\n",
       "    <tr>\n",
       "      <th>3</th>\n",
       "      <td>15701354</td>\n",
       "      <td>699</td>\n",
       "      <td>France</td>\n",
       "      <td>Female</td>\n",
       "      <td>39</td>\n",
       "      <td>1</td>\n",
       "      <td>0.00</td>\n",
       "      <td>2</td>\n",
       "      <td>0</td>\n",
       "      <td>0</td>\n",
       "      <td>93826.63</td>\n",
       "      <td>0</td>\n",
       "    </tr>\n",
       "    <tr>\n",
       "      <th>4</th>\n",
       "      <td>15737888</td>\n",
       "      <td>850</td>\n",
       "      <td>Spain</td>\n",
       "      <td>Female</td>\n",
       "      <td>43</td>\n",
       "      <td>2</td>\n",
       "      <td>125510.82</td>\n",
       "      <td>1</td>\n",
       "      <td>1</td>\n",
       "      <td>1</td>\n",
       "      <td>79084.10</td>\n",
       "      <td>0</td>\n",
       "    </tr>\n",
       "  </tbody>\n",
       "</table>\n",
       "</div>"
      ],
      "text/plain": [
       "   CustomerId  CreditScore Geography  Gender  Age  Tenure    Balance  \\\n",
       "0    15634602          619    France  Female   42       2       0.00   \n",
       "1    15647311          608     Spain  Female   41       1   83807.86   \n",
       "2    15619304          502    France  Female   42       8  159660.80   \n",
       "3    15701354          699    France  Female   39       1       0.00   \n",
       "4    15737888          850     Spain  Female   43       2  125510.82   \n",
       "\n",
       "   NumOfProducts  HasCrCard  IsActiveMember  EstimatedSalary  Exited  \n",
       "0              1          1               1        101348.88       1  \n",
       "1              1          0               1        112542.58       0  \n",
       "2              3          1               0        113931.57       1  \n",
       "3              2          0               0         93826.63       0  \n",
       "4              1          1               1         79084.10       0  "
      ]
     },
     "execution_count": 10,
     "metadata": {},
     "output_type": "execute_result"
    }
   ],
   "source": [
    "df_pre_churn = df_churn.copy()\n",
    "\n",
    "#Remove unnecessary data: RowNumber, Surname\n",
    "df_pre_churn=df_pre_churn.drop(['RowNumber','Surname'],axis=1)\n",
    "\n",
    "#Convert customerID into index\n",
    "#df_pre_churn = df_pre_churn.set_index('CustomerId')\n",
    "\n",
    "#Split x and y\n",
    "y=df_pre_churn['Exited']\n",
    "#x=df_pre_churn.drop(['Exited'],axis=1)\n",
    "x=df_pre_churn\n",
    "x.head()"
   ]
  },
  {
   "cell_type": "code",
   "execution_count": 11,
   "metadata": {},
   "outputs": [
    {
     "data": {
      "text/html": [
       "<div>\n",
       "<style scoped>\n",
       "    .dataframe tbody tr th:only-of-type {\n",
       "        vertical-align: middle;\n",
       "    }\n",
       "\n",
       "    .dataframe tbody tr th {\n",
       "        vertical-align: top;\n",
       "    }\n",
       "\n",
       "    .dataframe thead th {\n",
       "        text-align: right;\n",
       "    }\n",
       "</style>\n",
       "<table border=\"1\" class=\"dataframe\">\n",
       "  <thead>\n",
       "    <tr style=\"text-align: right;\">\n",
       "      <th></th>\n",
       "      <th>CustomerId</th>\n",
       "      <th>CreditScore</th>\n",
       "      <th>Geography</th>\n",
       "      <th>Gender</th>\n",
       "      <th>Age</th>\n",
       "      <th>Tenure</th>\n",
       "      <th>Balance</th>\n",
       "      <th>NumOfProducts</th>\n",
       "      <th>HasCrCard</th>\n",
       "      <th>IsActiveMember</th>\n",
       "      <th>EstimatedSalary</th>\n",
       "      <th>Exited</th>\n",
       "    </tr>\n",
       "  </thead>\n",
       "  <tbody>\n",
       "    <tr>\n",
       "      <th>0</th>\n",
       "      <td>15634602</td>\n",
       "      <td>619</td>\n",
       "      <td>France</td>\n",
       "      <td>0</td>\n",
       "      <td>42</td>\n",
       "      <td>2</td>\n",
       "      <td>0.00</td>\n",
       "      <td>1</td>\n",
       "      <td>1</td>\n",
       "      <td>1</td>\n",
       "      <td>101348.88</td>\n",
       "      <td>1</td>\n",
       "    </tr>\n",
       "    <tr>\n",
       "      <th>1</th>\n",
       "      <td>15647311</td>\n",
       "      <td>608</td>\n",
       "      <td>Spain</td>\n",
       "      <td>0</td>\n",
       "      <td>41</td>\n",
       "      <td>1</td>\n",
       "      <td>83807.86</td>\n",
       "      <td>1</td>\n",
       "      <td>0</td>\n",
       "      <td>1</td>\n",
       "      <td>112542.58</td>\n",
       "      <td>0</td>\n",
       "    </tr>\n",
       "    <tr>\n",
       "      <th>2</th>\n",
       "      <td>15619304</td>\n",
       "      <td>502</td>\n",
       "      <td>France</td>\n",
       "      <td>0</td>\n",
       "      <td>42</td>\n",
       "      <td>8</td>\n",
       "      <td>159660.80</td>\n",
       "      <td>3</td>\n",
       "      <td>1</td>\n",
       "      <td>0</td>\n",
       "      <td>113931.57</td>\n",
       "      <td>1</td>\n",
       "    </tr>\n",
       "    <tr>\n",
       "      <th>3</th>\n",
       "      <td>15701354</td>\n",
       "      <td>699</td>\n",
       "      <td>France</td>\n",
       "      <td>0</td>\n",
       "      <td>39</td>\n",
       "      <td>1</td>\n",
       "      <td>0.00</td>\n",
       "      <td>2</td>\n",
       "      <td>0</td>\n",
       "      <td>0</td>\n",
       "      <td>93826.63</td>\n",
       "      <td>0</td>\n",
       "    </tr>\n",
       "    <tr>\n",
       "      <th>4</th>\n",
       "      <td>15737888</td>\n",
       "      <td>850</td>\n",
       "      <td>Spain</td>\n",
       "      <td>0</td>\n",
       "      <td>43</td>\n",
       "      <td>2</td>\n",
       "      <td>125510.82</td>\n",
       "      <td>1</td>\n",
       "      <td>1</td>\n",
       "      <td>1</td>\n",
       "      <td>79084.10</td>\n",
       "      <td>0</td>\n",
       "    </tr>\n",
       "  </tbody>\n",
       "</table>\n",
       "</div>"
      ],
      "text/plain": [
       "   CustomerId  CreditScore Geography  Gender  Age  Tenure    Balance  \\\n",
       "0    15634602          619    France       0   42       2       0.00   \n",
       "1    15647311          608     Spain       0   41       1   83807.86   \n",
       "2    15619304          502    France       0   42       8  159660.80   \n",
       "3    15701354          699    France       0   39       1       0.00   \n",
       "4    15737888          850     Spain       0   43       2  125510.82   \n",
       "\n",
       "   NumOfProducts  HasCrCard  IsActiveMember  EstimatedSalary  Exited  \n",
       "0              1          1               1        101348.88       1  \n",
       "1              1          0               1        112542.58       0  \n",
       "2              3          1               0        113931.57       1  \n",
       "3              2          0               0         93826.63       0  \n",
       "4              1          1               1         79084.10       0  "
      ]
     },
     "execution_count": 11,
     "metadata": {},
     "output_type": "execute_result"
    }
   ],
   "source": [
    "#Encode categorical variables\n",
    "# Gender\n",
    "le = preprocessing.LabelEncoder()\n",
    "x['Gender'] = le.fit_transform(x['Gender'])\n",
    "x.head()"
   ]
  },
  {
   "cell_type": "code",
   "execution_count": 12,
   "metadata": {},
   "outputs": [
    {
     "data": {
      "text/plain": [
       "CustomerId           int64\n",
       "CreditScore          int64\n",
       "Geography           object\n",
       "Gender               int64\n",
       "Age                  int64\n",
       "Tenure               int64\n",
       "Balance            float64\n",
       "NumOfProducts        int64\n",
       "HasCrCard            int64\n",
       "IsActiveMember       int64\n",
       "EstimatedSalary    float64\n",
       "Exited               int64\n",
       "dtype: object"
      ]
     },
     "execution_count": 12,
     "metadata": {},
     "output_type": "execute_result"
    }
   ],
   "source": [
    "x.dtypes"
   ]
  },
  {
   "cell_type": "code",
   "execution_count": 13,
   "metadata": {},
   "outputs": [],
   "source": [
    "#Geography\n",
    "#Geo = ColumnTransformer(transformers = [('encoder', preprocessing.OneHotEncoder(), [1])] , remainder = \"passthrough\")\n",
    "#x2 = Geo.fit_transform(x)\n",
    "#x= pd.DataFrame(data=x2[1:,1:], index=x2[1:,0], columns=x2[0,1:]) \n",
    "\n",
    "\n",
    "\n",
    "ct = ColumnTransformer(transformers = [('encoder', preprocessing.OneHotEncoder(), [2])] , remainder = \"passthrough\")\n",
    "#x.head()"
   ]
  },
  {
   "cell_type": "code",
   "execution_count": 14,
   "metadata": {},
   "outputs": [],
   "source": [
    "x = np.array(ct.fit_transform(x))"
   ]
  },
  {
   "cell_type": "code",
   "execution_count": 15,
   "metadata": {},
   "outputs": [
    {
     "data": {
      "text/html": [
       "<div>\n",
       "<style scoped>\n",
       "    .dataframe tbody tr th:only-of-type {\n",
       "        vertical-align: middle;\n",
       "    }\n",
       "\n",
       "    .dataframe tbody tr th {\n",
       "        vertical-align: top;\n",
       "    }\n",
       "\n",
       "    .dataframe thead th {\n",
       "        text-align: right;\n",
       "    }\n",
       "</style>\n",
       "<table border=\"1\" class=\"dataframe\">\n",
       "  <thead>\n",
       "    <tr style=\"text-align: right;\">\n",
       "      <th></th>\n",
       "      <th>Geo1</th>\n",
       "      <th>Geo2</th>\n",
       "      <th>Geo3</th>\n",
       "      <th>CustomerId</th>\n",
       "      <th>CreditScore</th>\n",
       "      <th>Gender</th>\n",
       "      <th>Age</th>\n",
       "      <th>Tenure</th>\n",
       "      <th>Balance</th>\n",
       "      <th>NumOfProducts</th>\n",
       "      <th>HasCrCard</th>\n",
       "      <th>IsActiveMember</th>\n",
       "      <th>EstimatedSalary</th>\n",
       "      <th>Exited</th>\n",
       "    </tr>\n",
       "  </thead>\n",
       "  <tbody>\n",
       "    <tr>\n",
       "      <th>0</th>\n",
       "      <td>1.0</td>\n",
       "      <td>0.0</td>\n",
       "      <td>0.0</td>\n",
       "      <td>15634602.0</td>\n",
       "      <td>619.0</td>\n",
       "      <td>0.0</td>\n",
       "      <td>42.0</td>\n",
       "      <td>2.0</td>\n",
       "      <td>0.00</td>\n",
       "      <td>1.0</td>\n",
       "      <td>1.0</td>\n",
       "      <td>1.0</td>\n",
       "      <td>101348.88</td>\n",
       "      <td>1.0</td>\n",
       "    </tr>\n",
       "    <tr>\n",
       "      <th>1</th>\n",
       "      <td>0.0</td>\n",
       "      <td>0.0</td>\n",
       "      <td>1.0</td>\n",
       "      <td>15647311.0</td>\n",
       "      <td>608.0</td>\n",
       "      <td>0.0</td>\n",
       "      <td>41.0</td>\n",
       "      <td>1.0</td>\n",
       "      <td>83807.86</td>\n",
       "      <td>1.0</td>\n",
       "      <td>0.0</td>\n",
       "      <td>1.0</td>\n",
       "      <td>112542.58</td>\n",
       "      <td>0.0</td>\n",
       "    </tr>\n",
       "    <tr>\n",
       "      <th>2</th>\n",
       "      <td>1.0</td>\n",
       "      <td>0.0</td>\n",
       "      <td>0.0</td>\n",
       "      <td>15619304.0</td>\n",
       "      <td>502.0</td>\n",
       "      <td>0.0</td>\n",
       "      <td>42.0</td>\n",
       "      <td>8.0</td>\n",
       "      <td>159660.80</td>\n",
       "      <td>3.0</td>\n",
       "      <td>1.0</td>\n",
       "      <td>0.0</td>\n",
       "      <td>113931.57</td>\n",
       "      <td>1.0</td>\n",
       "    </tr>\n",
       "    <tr>\n",
       "      <th>3</th>\n",
       "      <td>1.0</td>\n",
       "      <td>0.0</td>\n",
       "      <td>0.0</td>\n",
       "      <td>15701354.0</td>\n",
       "      <td>699.0</td>\n",
       "      <td>0.0</td>\n",
       "      <td>39.0</td>\n",
       "      <td>1.0</td>\n",
       "      <td>0.00</td>\n",
       "      <td>2.0</td>\n",
       "      <td>0.0</td>\n",
       "      <td>0.0</td>\n",
       "      <td>93826.63</td>\n",
       "      <td>0.0</td>\n",
       "    </tr>\n",
       "    <tr>\n",
       "      <th>4</th>\n",
       "      <td>0.0</td>\n",
       "      <td>0.0</td>\n",
       "      <td>1.0</td>\n",
       "      <td>15737888.0</td>\n",
       "      <td>850.0</td>\n",
       "      <td>0.0</td>\n",
       "      <td>43.0</td>\n",
       "      <td>2.0</td>\n",
       "      <td>125510.82</td>\n",
       "      <td>1.0</td>\n",
       "      <td>1.0</td>\n",
       "      <td>1.0</td>\n",
       "      <td>79084.10</td>\n",
       "      <td>0.0</td>\n",
       "    </tr>\n",
       "    <tr>\n",
       "      <th>...</th>\n",
       "      <td>...</td>\n",
       "      <td>...</td>\n",
       "      <td>...</td>\n",
       "      <td>...</td>\n",
       "      <td>...</td>\n",
       "      <td>...</td>\n",
       "      <td>...</td>\n",
       "      <td>...</td>\n",
       "      <td>...</td>\n",
       "      <td>...</td>\n",
       "      <td>...</td>\n",
       "      <td>...</td>\n",
       "      <td>...</td>\n",
       "      <td>...</td>\n",
       "    </tr>\n",
       "    <tr>\n",
       "      <th>9995</th>\n",
       "      <td>1.0</td>\n",
       "      <td>0.0</td>\n",
       "      <td>0.0</td>\n",
       "      <td>15606229.0</td>\n",
       "      <td>771.0</td>\n",
       "      <td>1.0</td>\n",
       "      <td>39.0</td>\n",
       "      <td>5.0</td>\n",
       "      <td>0.00</td>\n",
       "      <td>2.0</td>\n",
       "      <td>1.0</td>\n",
       "      <td>0.0</td>\n",
       "      <td>96270.64</td>\n",
       "      <td>0.0</td>\n",
       "    </tr>\n",
       "    <tr>\n",
       "      <th>9996</th>\n",
       "      <td>1.0</td>\n",
       "      <td>0.0</td>\n",
       "      <td>0.0</td>\n",
       "      <td>15569892.0</td>\n",
       "      <td>516.0</td>\n",
       "      <td>1.0</td>\n",
       "      <td>35.0</td>\n",
       "      <td>10.0</td>\n",
       "      <td>57369.61</td>\n",
       "      <td>1.0</td>\n",
       "      <td>1.0</td>\n",
       "      <td>1.0</td>\n",
       "      <td>101699.77</td>\n",
       "      <td>0.0</td>\n",
       "    </tr>\n",
       "    <tr>\n",
       "      <th>9997</th>\n",
       "      <td>1.0</td>\n",
       "      <td>0.0</td>\n",
       "      <td>0.0</td>\n",
       "      <td>15584532.0</td>\n",
       "      <td>709.0</td>\n",
       "      <td>0.0</td>\n",
       "      <td>36.0</td>\n",
       "      <td>7.0</td>\n",
       "      <td>0.00</td>\n",
       "      <td>1.0</td>\n",
       "      <td>0.0</td>\n",
       "      <td>1.0</td>\n",
       "      <td>42085.58</td>\n",
       "      <td>1.0</td>\n",
       "    </tr>\n",
       "    <tr>\n",
       "      <th>9998</th>\n",
       "      <td>0.0</td>\n",
       "      <td>1.0</td>\n",
       "      <td>0.0</td>\n",
       "      <td>15682355.0</td>\n",
       "      <td>772.0</td>\n",
       "      <td>1.0</td>\n",
       "      <td>42.0</td>\n",
       "      <td>3.0</td>\n",
       "      <td>75075.31</td>\n",
       "      <td>2.0</td>\n",
       "      <td>1.0</td>\n",
       "      <td>0.0</td>\n",
       "      <td>92888.52</td>\n",
       "      <td>1.0</td>\n",
       "    </tr>\n",
       "    <tr>\n",
       "      <th>9999</th>\n",
       "      <td>1.0</td>\n",
       "      <td>0.0</td>\n",
       "      <td>0.0</td>\n",
       "      <td>15628319.0</td>\n",
       "      <td>792.0</td>\n",
       "      <td>0.0</td>\n",
       "      <td>28.0</td>\n",
       "      <td>4.0</td>\n",
       "      <td>130142.79</td>\n",
       "      <td>1.0</td>\n",
       "      <td>1.0</td>\n",
       "      <td>0.0</td>\n",
       "      <td>38190.78</td>\n",
       "      <td>0.0</td>\n",
       "    </tr>\n",
       "  </tbody>\n",
       "</table>\n",
       "<p>10000 rows × 14 columns</p>\n",
       "</div>"
      ],
      "text/plain": [
       "      Geo1  Geo2  Geo3  CustomerId  CreditScore  Gender   Age  Tenure  \\\n",
       "0      1.0   0.0   0.0  15634602.0        619.0     0.0  42.0     2.0   \n",
       "1      0.0   0.0   1.0  15647311.0        608.0     0.0  41.0     1.0   \n",
       "2      1.0   0.0   0.0  15619304.0        502.0     0.0  42.0     8.0   \n",
       "3      1.0   0.0   0.0  15701354.0        699.0     0.0  39.0     1.0   \n",
       "4      0.0   0.0   1.0  15737888.0        850.0     0.0  43.0     2.0   \n",
       "...    ...   ...   ...         ...          ...     ...   ...     ...   \n",
       "9995   1.0   0.0   0.0  15606229.0        771.0     1.0  39.0     5.0   \n",
       "9996   1.0   0.0   0.0  15569892.0        516.0     1.0  35.0    10.0   \n",
       "9997   1.0   0.0   0.0  15584532.0        709.0     0.0  36.0     7.0   \n",
       "9998   0.0   1.0   0.0  15682355.0        772.0     1.0  42.0     3.0   \n",
       "9999   1.0   0.0   0.0  15628319.0        792.0     0.0  28.0     4.0   \n",
       "\n",
       "        Balance  NumOfProducts  HasCrCard  IsActiveMember  EstimatedSalary  \\\n",
       "0          0.00            1.0        1.0             1.0        101348.88   \n",
       "1      83807.86            1.0        0.0             1.0        112542.58   \n",
       "2     159660.80            3.0        1.0             0.0        113931.57   \n",
       "3          0.00            2.0        0.0             0.0         93826.63   \n",
       "4     125510.82            1.0        1.0             1.0         79084.10   \n",
       "...         ...            ...        ...             ...              ...   \n",
       "9995       0.00            2.0        1.0             0.0         96270.64   \n",
       "9996   57369.61            1.0        1.0             1.0        101699.77   \n",
       "9997       0.00            1.0        0.0             1.0         42085.58   \n",
       "9998   75075.31            2.0        1.0             0.0         92888.52   \n",
       "9999  130142.79            1.0        1.0             0.0         38190.78   \n",
       "\n",
       "      Exited  \n",
       "0        1.0  \n",
       "1        0.0  \n",
       "2        1.0  \n",
       "3        0.0  \n",
       "4        0.0  \n",
       "...      ...  \n",
       "9995     0.0  \n",
       "9996     0.0  \n",
       "9997     1.0  \n",
       "9998     1.0  \n",
       "9999     0.0  \n",
       "\n",
       "[10000 rows x 14 columns]"
      ]
     },
     "execution_count": 15,
     "metadata": {},
     "output_type": "execute_result"
    }
   ],
   "source": [
    "x = pd.DataFrame(data=x, columns= [\"Geo1\",\"Geo2\", \"Geo3\",\"CustomerId\",\"CreditScore\", \"Gender\", \"Age\", \"Tenure\", \"Balance\", \"NumOfProducts\", \"HasCrCard\", \"IsActiveMember\",\"EstimatedSalary\",\"Exited\"])\n",
    "x"
   ]
  },
  {
   "cell_type": "code",
   "execution_count": 16,
   "metadata": {},
   "outputs": [
    {
     "data": {
      "text/html": [
       "<div>\n",
       "<style scoped>\n",
       "    .dataframe tbody tr th:only-of-type {\n",
       "        vertical-align: middle;\n",
       "    }\n",
       "\n",
       "    .dataframe tbody tr th {\n",
       "        vertical-align: top;\n",
       "    }\n",
       "\n",
       "    .dataframe thead th {\n",
       "        text-align: right;\n",
       "    }\n",
       "</style>\n",
       "<table border=\"1\" class=\"dataframe\">\n",
       "  <thead>\n",
       "    <tr style=\"text-align: right;\">\n",
       "      <th></th>\n",
       "      <th>Exited</th>\n",
       "    </tr>\n",
       "  </thead>\n",
       "  <tbody>\n",
       "    <tr>\n",
       "      <th>0</th>\n",
       "      <td>1</td>\n",
       "    </tr>\n",
       "    <tr>\n",
       "      <th>1</th>\n",
       "      <td>0</td>\n",
       "    </tr>\n",
       "    <tr>\n",
       "      <th>2</th>\n",
       "      <td>1</td>\n",
       "    </tr>\n",
       "    <tr>\n",
       "      <th>3</th>\n",
       "      <td>0</td>\n",
       "    </tr>\n",
       "    <tr>\n",
       "      <th>4</th>\n",
       "      <td>0</td>\n",
       "    </tr>\n",
       "    <tr>\n",
       "      <th>...</th>\n",
       "      <td>...</td>\n",
       "    </tr>\n",
       "    <tr>\n",
       "      <th>9995</th>\n",
       "      <td>0</td>\n",
       "    </tr>\n",
       "    <tr>\n",
       "      <th>9996</th>\n",
       "      <td>0</td>\n",
       "    </tr>\n",
       "    <tr>\n",
       "      <th>9997</th>\n",
       "      <td>1</td>\n",
       "    </tr>\n",
       "    <tr>\n",
       "      <th>9998</th>\n",
       "      <td>1</td>\n",
       "    </tr>\n",
       "    <tr>\n",
       "      <th>9999</th>\n",
       "      <td>0</td>\n",
       "    </tr>\n",
       "  </tbody>\n",
       "</table>\n",
       "<p>10000 rows × 1 columns</p>\n",
       "</div>"
      ],
      "text/plain": [
       "      Exited\n",
       "0          1\n",
       "1          0\n",
       "2          1\n",
       "3          0\n",
       "4          0\n",
       "...      ...\n",
       "9995       0\n",
       "9996       0\n",
       "9997       1\n",
       "9998       1\n",
       "9999       0\n",
       "\n",
       "[10000 rows x 1 columns]"
      ]
     },
     "execution_count": 16,
     "metadata": {},
     "output_type": "execute_result"
    }
   ],
   "source": [
    "y.to_frame()"
   ]
  },
  {
   "cell_type": "code",
   "execution_count": 17,
   "metadata": {},
   "outputs": [
    {
     "data": {
      "text/html": [
       "<div>\n",
       "<style scoped>\n",
       "    .dataframe tbody tr th:only-of-type {\n",
       "        vertical-align: middle;\n",
       "    }\n",
       "\n",
       "    .dataframe tbody tr th {\n",
       "        vertical-align: top;\n",
       "    }\n",
       "\n",
       "    .dataframe thead th {\n",
       "        text-align: right;\n",
       "    }\n",
       "</style>\n",
       "<table border=\"1\" class=\"dataframe\">\n",
       "  <thead>\n",
       "    <tr style=\"text-align: right;\">\n",
       "      <th></th>\n",
       "      <th>Geo1</th>\n",
       "      <th>Geo2</th>\n",
       "      <th>Geo3</th>\n",
       "      <th>CreditScore</th>\n",
       "      <th>Gender</th>\n",
       "      <th>Age</th>\n",
       "      <th>Tenure</th>\n",
       "      <th>Balance</th>\n",
       "      <th>NumOfProducts</th>\n",
       "      <th>HasCrCard</th>\n",
       "      <th>IsActiveMember</th>\n",
       "      <th>EstimatedSalary</th>\n",
       "      <th>Exited</th>\n",
       "    </tr>\n",
       "    <tr>\n",
       "      <th>CustomerId</th>\n",
       "      <th></th>\n",
       "      <th></th>\n",
       "      <th></th>\n",
       "      <th></th>\n",
       "      <th></th>\n",
       "      <th></th>\n",
       "      <th></th>\n",
       "      <th></th>\n",
       "      <th></th>\n",
       "      <th></th>\n",
       "      <th></th>\n",
       "      <th></th>\n",
       "      <th></th>\n",
       "    </tr>\n",
       "  </thead>\n",
       "  <tbody>\n",
       "    <tr>\n",
       "      <th>15634602.0</th>\n",
       "      <td>1.0</td>\n",
       "      <td>0.0</td>\n",
       "      <td>0.0</td>\n",
       "      <td>619.0</td>\n",
       "      <td>0.0</td>\n",
       "      <td>42.0</td>\n",
       "      <td>2.0</td>\n",
       "      <td>0.00</td>\n",
       "      <td>1.0</td>\n",
       "      <td>1.0</td>\n",
       "      <td>1.0</td>\n",
       "      <td>101348.88</td>\n",
       "      <td>1.0</td>\n",
       "    </tr>\n",
       "    <tr>\n",
       "      <th>15647311.0</th>\n",
       "      <td>0.0</td>\n",
       "      <td>0.0</td>\n",
       "      <td>1.0</td>\n",
       "      <td>608.0</td>\n",
       "      <td>0.0</td>\n",
       "      <td>41.0</td>\n",
       "      <td>1.0</td>\n",
       "      <td>83807.86</td>\n",
       "      <td>1.0</td>\n",
       "      <td>0.0</td>\n",
       "      <td>1.0</td>\n",
       "      <td>112542.58</td>\n",
       "      <td>0.0</td>\n",
       "    </tr>\n",
       "    <tr>\n",
       "      <th>15619304.0</th>\n",
       "      <td>1.0</td>\n",
       "      <td>0.0</td>\n",
       "      <td>0.0</td>\n",
       "      <td>502.0</td>\n",
       "      <td>0.0</td>\n",
       "      <td>42.0</td>\n",
       "      <td>8.0</td>\n",
       "      <td>159660.80</td>\n",
       "      <td>3.0</td>\n",
       "      <td>1.0</td>\n",
       "      <td>0.0</td>\n",
       "      <td>113931.57</td>\n",
       "      <td>1.0</td>\n",
       "    </tr>\n",
       "    <tr>\n",
       "      <th>15701354.0</th>\n",
       "      <td>1.0</td>\n",
       "      <td>0.0</td>\n",
       "      <td>0.0</td>\n",
       "      <td>699.0</td>\n",
       "      <td>0.0</td>\n",
       "      <td>39.0</td>\n",
       "      <td>1.0</td>\n",
       "      <td>0.00</td>\n",
       "      <td>2.0</td>\n",
       "      <td>0.0</td>\n",
       "      <td>0.0</td>\n",
       "      <td>93826.63</td>\n",
       "      <td>0.0</td>\n",
       "    </tr>\n",
       "    <tr>\n",
       "      <th>15737888.0</th>\n",
       "      <td>0.0</td>\n",
       "      <td>0.0</td>\n",
       "      <td>1.0</td>\n",
       "      <td>850.0</td>\n",
       "      <td>0.0</td>\n",
       "      <td>43.0</td>\n",
       "      <td>2.0</td>\n",
       "      <td>125510.82</td>\n",
       "      <td>1.0</td>\n",
       "      <td>1.0</td>\n",
       "      <td>1.0</td>\n",
       "      <td>79084.10</td>\n",
       "      <td>0.0</td>\n",
       "    </tr>\n",
       "  </tbody>\n",
       "</table>\n",
       "</div>"
      ],
      "text/plain": [
       "            Geo1  Geo2  Geo3  CreditScore  Gender   Age  Tenure    Balance  \\\n",
       "CustomerId                                                                   \n",
       "15634602.0   1.0   0.0   0.0        619.0     0.0  42.0     2.0       0.00   \n",
       "15647311.0   0.0   0.0   1.0        608.0     0.0  41.0     1.0   83807.86   \n",
       "15619304.0   1.0   0.0   0.0        502.0     0.0  42.0     8.0  159660.80   \n",
       "15701354.0   1.0   0.0   0.0        699.0     0.0  39.0     1.0       0.00   \n",
       "15737888.0   0.0   0.0   1.0        850.0     0.0  43.0     2.0  125510.82   \n",
       "\n",
       "            NumOfProducts  HasCrCard  IsActiveMember  EstimatedSalary  Exited  \n",
       "CustomerId                                                                     \n",
       "15634602.0            1.0        1.0             1.0        101348.88     1.0  \n",
       "15647311.0            1.0        0.0             1.0        112542.58     0.0  \n",
       "15619304.0            3.0        1.0             0.0        113931.57     1.0  \n",
       "15701354.0            2.0        0.0             0.0         93826.63     0.0  \n",
       "15737888.0            1.0        1.0             1.0         79084.10     0.0  "
      ]
     },
     "execution_count": 17,
     "metadata": {},
     "output_type": "execute_result"
    }
   ],
   "source": [
    "x = x.set_index('CustomerId')\n",
    "x.head()"
   ]
  },
  {
   "cell_type": "code",
   "execution_count": null,
   "metadata": {},
   "outputs": [],
   "source": []
  },
  {
   "cell_type": "code",
   "execution_count": 18,
   "metadata": {},
   "outputs": [
    {
     "data": {
      "image/png": "[encoded data removed]",
      "text/plain": [
       "<Figure size 864x864 with 2 Axes>"
      ]
     },
     "metadata": {
      "needs_background": "light"
     },
     "output_type": "display_data"
    }
   ],
   "source": [
    "#Ref: https://medium.com/analytics-vidhya/telecom-churn-prediction-model-aa5c71ef944c\n",
    "def Generate_heatmap_graph(corr, chart_title, mask_uppertri=False ):\n",
    "    \"\"\" Based on features , generate correlation matrix \"\"\"\n",
    "    mask = np.zeros_like(corr)\n",
    "    mask[np.triu_indices_from(mask)] = mask_uppertri\n",
    "    fig,ax = plt.subplots(figsize=(12,12))\n",
    "    sns.heatmap(corr\n",
    "                , mask = mask\n",
    "                , square = True\n",
    "                , annot = True\n",
    "                , annot_kws={'size': 10.5, 'weight' : 'bold'}\n",
    "                , cmap=plt.get_cmap(\"YlOrBr\")\n",
    "                , linewidths=.1)\n",
    "    plt.title(chart_title, fontsize=14)\n",
    "    plt.show()\n",
    "#var_corr = round(x.drop(columns=['Geo1','Geo2','Geo3']).corr(),2)\n",
    "var_corr = round(x.corr(),2)\n",
    "Generate_heatmap_graph(var_corr\n",
    "                       ,chart_title = 'Correlation Heatmap'\n",
    "                       ,mask_uppertri = True)"
   ]
  },
  {
   "cell_type": "markdown",
   "metadata": {},
   "source": [
    "There seems to be a slight correlations between age and churn, Balance and Location, and Balance and Number of products."
   ]
  },
  {
   "cell_type": "code",
   "execution_count": 19,
   "metadata": {},
   "outputs": [
    {
     "data": {
      "image/png": "[encoded data removed]",
      "text/plain": [
       "<Figure size 412x360 with 1 Axes>"
      ]
     },
     "metadata": {
      "needs_background": "light"
     },
     "output_type": "display_data"
    }
   ],
   "source": [
    "#Explore some \n",
    "sns.lmplot(x='Balance'\n",
    "           ,y='CreditScore'\n",
    "           ,data=x\n",
    "           ,hue='Exited'\n",
    "            ,fit_reg=False\n",
    "            ,markers=[\"o\", \"x\"])\n",
    "plt.show()"
   ]
  },
  {
   "cell_type": "code",
   "execution_count": 20,
   "metadata": {},
   "outputs": [],
   "source": [
    "x=x.drop(['Exited'],axis=1)"
   ]
  },
  {
   "cell_type": "markdown",
   "metadata": {},
   "source": [
    "# Helping functions"
   ]
  },
  {
   "cell_type": "code",
   "execution_count": 21,
   "metadata": {},
   "outputs": [],
   "source": [
    "#Learning curve\n",
    "#Ref: https://scikit-learn.org/stable/auto_examples/model_selection/plot_learning_curve.html\n",
    "def plot_learning_curve(estimator, title, X, y, axes=None, ylim=None, cv=None,\n",
    "                        n_jobs=None, train_sizes=np.linspace(.1, 1.0, 5)):\n",
    "    \"\"\"\n",
    "    Generate 3 plots: the test and training learning curve, the training\n",
    "    samples vs fit times curve, the fit times vs score curve.\n",
    "\n",
    "    Parameters\n",
    "    ----------\n",
    "    estimator : object type that implements the \"fit\" and \"predict\" methods\n",
    "        An object of that type which is cloned for each validation.\n",
    "\n",
    "    title : string\n",
    "        Title for the chart.\n",
    "\n",
    "    X : array-like, shape (n_samples, n_features)\n",
    "        Training vector, where n_samples is the number of samples and\n",
    "        n_features is the number of features.\n",
    "\n",
    "    y : array-like, shape (n_samples) or (n_samples, n_features), optional\n",
    "        Target relative to X for classification or regression;\n",
    "        None for unsupervised learning.\n",
    "\n",
    "    axes : array of 3 axes, optional (default=None)\n",
    "        Axes to use for plotting the curves.\n",
    "\n",
    "    ylim : tuple, shape (ymin, ymax), optional\n",
    "        Defines minimum and maximum yvalues plotted.\n",
    "\n",
    "    cv : int, cross-validation generator or an iterable, optional\n",
    "        Determines the cross-validation splitting strategy.\n",
    "        Possible inputs for cv are:\n",
    "\n",
    "          - None, to use the default 5-fold cross-validation,\n",
    "          - integer, to specify the number of folds.\n",
    "          - :term:`CV splitter`,\n",
    "          - An iterable yielding (train, test) splits as arrays of indices.\n",
    "\n",
    "        For integer/None inputs, if ``y`` is binary or multiclass,\n",
    "        :class:`StratifiedKFold` used. If the estimator is not a classifier\n",
    "        or if ``y`` is neither binary nor multiclass, :class:`KFold` is used.\n",
    "\n",
    "        Refer :ref:`User Guide <cross_validation>` for the various\n",
    "        cross-validators that can be used here.\n",
    "\n",
    "    n_jobs : int or None, optional (default=None)\n",
    "        Number of jobs to run in parallel.\n",
    "        ``None`` means 1 unless in a :obj:`joblib.parallel_backend` context.\n",
    "        ``-1`` means using all processors. See :term:`Glossary <n_jobs>`\n",
    "        for more details.\n",
    "\n",
    "    train_sizes : array-like, shape (n_ticks,), dtype float or int\n",
    "        Relative or absolute numbers of training examples that will be used to\n",
    "        generate the learning curve. If the dtype is float, it is regarded as a\n",
    "        fraction of the maximum size of the training set (that is determined\n",
    "        by the selected validation method), i.e. it has to be within (0, 1].\n",
    "        Otherwise it is interpreted as absolute sizes of the training sets.\n",
    "        Note that for classification the number of samples usually have to\n",
    "        be big enough to contain at least one sample from each class.\n",
    "        (default: np.linspace(0.1, 1.0, 5))\n",
    "    \"\"\"\n",
    "    if axes is None:\n",
    "        _, axes = plt.subplots(1, 4, figsize=(25, 5))\n",
    "\n",
    "    axes[0].set_title(title)\n",
    "    if ylim is not None:\n",
    "        axes[0].set_ylim(*ylim)\n",
    "    axes[0].set_xlabel(\"Training examples\")\n",
    "    axes[0].set_ylabel(\"Accuracy\")\n",
    "\n",
    "    train_sizes, train_scores, test_scores, fit_times, _ = \\\n",
    "        learning_curve(estimator, X, y, cv=cv, n_jobs=n_jobs,\n",
    "                       train_sizes=train_sizes,\n",
    "                       return_times=True)\n",
    "    train_scores_mean = np.mean(train_scores, axis=1)\n",
    "    train_scores_std = np.std(train_scores, axis=1)\n",
    "    test_scores_mean = np.mean(test_scores, axis=1)\n",
    "    test_scores_std = np.std(test_scores, axis=1)\n",
    "    fit_times_mean = np.mean(fit_times, axis=1)\n",
    "    fit_times_std = np.std(fit_times, axis=1)\n",
    "\n",
    "    # Plot learning curve\n",
    "    axes[0].grid()\n",
    "    axes[0].fill_between(train_sizes, train_scores_mean - train_scores_std,\n",
    "                         train_scores_mean + train_scores_std, alpha=0.1,\n",
    "                         color=\"r\")\n",
    "    axes[0].fill_between(train_sizes, test_scores_mean - test_scores_std,\n",
    "                         test_scores_mean + test_scores_std, alpha=0.1,\n",
    "                         color=\"g\")\n",
    "    axes[0].plot(train_sizes, train_scores_mean, 'o-', color=\"r\",\n",
    "                 label=\"Training score\")\n",
    "    axes[0].plot(train_sizes, test_scores_mean, 'o-', color=\"g\",\n",
    "                 label=\"Cross-validation score\")\n",
    "    axes[0].legend(loc=\"best\")\n",
    "\n",
    "    # Plot n_samples vs fit_times\n",
    "    axes[1].grid()\n",
    "    axes[1].plot(train_sizes, fit_times_mean, 'o-')\n",
    "    axes[1].fill_between(train_sizes, fit_times_mean - fit_times_std,\n",
    "                         fit_times_mean + fit_times_std, alpha=0.1)\n",
    "    axes[1].set_xlabel(\"Training examples\")\n",
    "    axes[1].set_ylabel(\"fit_times\")\n",
    "    axes[1].set_title(\"Scalability of the model\")\n",
    "\n",
    "    # Plot fit_time vs score\n",
    "    axes[2].grid()\n",
    "    axes[2].plot(fit_times_mean, train_scores_mean, 'o-')\n",
    "    axes[2].fill_between(fit_times_mean, train_scores_mean - train_scores_std,\n",
    "                         train_scores_mean + train_scores_std, alpha=0.1)\n",
    "    axes[2].set_xlabel(\"fit_times\")\n",
    "    axes[2].set_ylabel(\"Accuracy\")\n",
    "    axes[2].set_title(\"Performance of the model\")\n",
    "    \n",
    "    # Adding an extra curve: model training time vs clusters\n",
    "    axes[3].grid()\n",
    "    kclusters = list(np.arange(2,24,2))\n",
    "    axes[3].plot(kclusters, fit_times_mean)\n",
    "    #plt.grid(True)\n",
    "    axes[3].set_xlabel('No. Clusters')\n",
    "    axes[3].set_ylabel('Training Time (s)')\n",
    "    axes[3].set_title('Training Time: ')\n",
    "    #plt.show()\n",
    "\n",
    "    return plt"
   ]
  },
  {
   "cell_type": "markdown",
   "metadata": {},
   "source": [
    "You are to implement (or find the code for) six algorithms. The first two are clustering algorithms:\n",
    "\n",
    "k-means clustering\n",
    "Expectation Maximization\n",
    "You can choose your own measures of distance/similarity. Naturally, you'll have to justify your choices, but you're practiced at that sort of thing by now.\n",
    "\n",
    "The last four algorithms are dimensionality reduction algorithms:\n",
    "\n",
    "PCA\n",
    "ICA\n",
    "Randomized Projections\n",
    "Any other feature selection algorithm you desire\n",
    "You are to run a number of experiments. Come up with at least two datasets. If you'd like (and it makes a lot of sense in this case) you can use the ones you used in the first assignment.\n",
    "\n",
    "Run the clustering algorithms on the datasets and describe what you see.\n",
    "Apply the dimensionality reduction algorithms to the two datasets and describe what you see.\n",
    "Reproduce your clustering experiments, but on the data after you've run dimensionality reduction on it. Yes, that’s 16 combinations of datasets, dimensionality reduction, and clustering method. You should look at all of them, but focus on the more interesting findings in your report.\n",
    "Apply the dimensionality reduction algorithms to one of your datasets from assignment #1 (if you've reused the datasets from assignment #1 to do experiments 1-3 above then you've already done this) and rerun your neural network learner on the newly projected data.\n",
    "Apply the clustering algorithms to the same dataset to which you just applied the dimensionality reduction algorithms (you've probably already done this), treating the clusters as if they were new features. In other words, treat the clustering algorithms as if they were dimensionality reduction algorithms. Again, rerun your neural network learner on the newly projected data."
   ]
  },
  {
   "cell_type": "markdown",
   "metadata": {},
   "source": [
    "# Run the clustering algorithms"
   ]
  },
  {
   "cell_type": "markdown",
   "metadata": {},
   "source": [
    "# Split and Normilize"
   ]
  },
  {
   "cell_type": "code",
   "execution_count": 22,
   "metadata": {},
   "outputs": [],
   "source": [
    "#Splitting data into test and train datasets\n",
    "X_train, X_test, y_train, y_test = train_test_split(x, y, test_size = 0.2, random_state = 0, stratify=y)\n",
    "\n",
    "#feature Scaling - Standarization\n",
    "sc_X = StandardScaler()\n",
    "X_train = sc_X.fit_transform(X_train)\n",
    "X_test = sc_X.transform(X_test)\n"
   ]
  },
  {
   "cell_type": "markdown",
   "metadata": {},
   "source": [
    "## K-means"
   ]
  },
  {
   "cell_type": "markdown",
   "metadata": {},
   "source": [
    "We already know that there are 2 clusters on this data set: Churned and not churned. Reasons for churning can vary widely, but in most cases there are some common grounds between customers (users share some similar behavior); so, let's take advatange that we already have that label to test the unsupervised learning algorithms by trying to predict those 2 clusters and compare to the actual label."
   ]
  },
  {
   "cell_type": "code",
   "execution_count": 23,
   "metadata": {},
   "outputs": [
    {
     "data": {
      "text/plain": [
       "Text(0.5, 1.0, 'Elbow curve')"
      ]
     },
     "execution_count": 23,
     "metadata": {},
     "output_type": "execute_result"
    },
    {
     "data": {
      "image/png": "[encoded data removed]",
      "text/plain": [
       "<Figure size 720x432 with 1 Axes>"
      ]
     },
     "metadata": {
      "needs_background": "light"
     },
     "output_type": "display_data"
    }
   ],
   "source": [
    "# although we already know we want to obtain 2 clusters, let's also valdiate if there are many groups that can be formed using this data. Let's plot using some of the features we know are related\n",
    "from sklearn.cluster import KMeans\n",
    "df_kmeans_data = x[['Balance','NumOfProducts']]\n",
    "\n",
    "k = range(1,17)\n",
    "kmeans = [KMeans(n_clusters=i) for i in k]\n",
    "\n",
    "score = [kmeans[i].fit(df_kmeans_data).score(df_kmeans_data)  for i in range(len(kmeans))]\n",
    "\n",
    "plt.figure(figsize=(10,6))\n",
    "plt.plot(k,score)\n",
    "plt.xlabel(\"Clusters\")\n",
    "plt.ylabel(\"Score\")\n",
    "plt.title(\"Elbow curve\",fontsize=15)\n",
    "\n",
    "# There is no clear elbow, but between 2 or 3 seems reasonable"
   ]
  },
  {
   "cell_type": "code",
   "execution_count": 24,
   "metadata": {},
   "outputs": [
    {
     "data": {
      "image/png": "[encoded data removed]",
      "text/plain": [
       "<Figure size 432x288 with 1 Axes>"
      ]
     },
     "metadata": {
      "needs_background": "light"
     },
     "output_type": "display_data"
    }
   ],
   "source": [
    "#We Know we want 2 clusters, but let's see how the accuracy changes as clusters increases. \n",
    "#Specifically, let's check if the cluster classification is better than classifying all members as a single class.\n",
    "scores_t = []\n",
    "for n in range(1,18):\n",
    "    KM_model = KMeans(n_clusters=n, random_state=0)\n",
    "\n",
    "    KM_model_fit = KM_model.fit(X_train,y_train)\n",
    "    \n",
    "    y_pred =  KM_model_fit.predict(X_test)\n",
    "    \n",
    "    scores_t.append(accuracy_score(y_test,y_pred))\n",
    "\n",
    "# plot clusters vs accuracy\n",
    "kclusters = list(np.arange(1,18,1))\n",
    "fig, ax = plt.subplots()\n",
    "ax.plot(kclusters, scores_t)\n",
    "ax.grid(True)\n",
    "ax.set_xlabel('No. Clusters')\n",
    "ax.set_ylabel('Accuracy Score')\n",
    "ax.set_title('Accuracy by no. clusters')\n",
    "plt.show()"
   ]
  },
  {
   "cell_type": "code",
   "execution_count": 25,
   "metadata": {},
   "outputs": [],
   "source": [
    "#Create and fit model\n",
    "KM_model = KMeans(n_clusters=2,n_init=10,random_state=100) \n",
    "KM_model_fit = KM_model.fit(X_train,y_train)"
   ]
  },
  {
   "cell_type": "code",
   "execution_count": 26,
   "metadata": {},
   "outputs": [
    {
     "name": "stdout",
     "output_type": "stream",
     "text": [
      "Churn on test dataset:\n",
      "[0.7965 0.2035]\n",
      "Churned predicted by Kmeans:\n",
      "[0.503 0.497]\n"
     ]
    }
   ],
   "source": [
    "#Predict labels\n",
    "y_pred =  KM_model_fit.predict(X_test)\n",
    "y_pred\n",
    "\n",
    "#Churn on test set\n",
    "unique_t, counts_t = np.unique(y_test, return_counts=True)\n",
    "Churn_rate_test = counts_t / len(y_test)\n",
    "print(\"Churn on test dataset:\")\n",
    "print(Churn_rate_test)\n",
    "\n",
    "#Predicted churn\n",
    "unique, counts = np.unique(y_pred, return_counts=True)\n",
    "Churn_rate_y = counts / len(y_pred)\n",
    "print(\"Churned predicted by Kmeans:\")\n",
    "print(Churn_rate_y)\n",
    "#print(counts)\n",
    "#Churn_rate_y = Churn_rate.to_frame()\n",
    "#dict(zip(unique, counts))\n",
    "#counts"
   ]
  },
  {
   "cell_type": "code",
   "execution_count": 27,
   "metadata": {},
   "outputs": [
    {
     "data": {
      "image/png": "[encoded data removed]",
      "text/plain": [
       "<Figure size 432x288 with 2 Axes>"
      ]
     },
     "metadata": {
      "needs_background": "light"
     },
     "output_type": "display_data"
    }
   ],
   "source": [
    "#Create confussion matrix to compare\n",
    "#cm= confusion_matrix(y_test,y_pred)\n",
    "\n",
    "#Confusion Matrix \n",
    "#tn, fp, fn, tp = cm.ravel()\n",
    "#print(tn, fp, fn, tp)\n",
    "\n",
    "data1 = {'y_Actual':   y_test,\n",
    "        'y_Predicted': y_pred\n",
    "        }\n",
    "\n",
    "df = pd.DataFrame(data1, columns=['y_Actual','y_Predicted'])\n",
    "confusion_matrix_df = pd.crosstab(df['y_Actual'], df['y_Predicted'], rownames=['Actual'], colnames=['Predicted'])\n",
    "\n",
    "sn.heatmap(confusion_matrix_df, annot=True, fmt=\"d\")\n",
    "plt.show()"
   ]
  },
  {
   "cell_type": "code",
   "execution_count": 28,
   "metadata": {},
   "outputs": [
    {
     "name": "stdout",
     "output_type": "stream",
     "text": [
      "F1:\n",
      "0.35117773019271953\n",
      "Accuracy\n",
      "0.5455\n"
     ]
    }
   ],
   "source": [
    "#Calculate F1 and accuray score\n",
    "print(\"F1:\")\n",
    "print(f1_score(y_test,y_pred))\n",
    "print(\"Accuracy\")\n",
    "print(accuracy_score(y_test,y_pred))"
   ]
  },
  {
   "cell_type": "code",
   "execution_count": 29,
   "metadata": {},
   "outputs": [
    {
     "data": {
      "image/png": "[encoded data removed]",
      "text/plain": [
       "<Figure size 1800x360 with 4 Axes>"
      ]
     },
     "metadata": {
      "needs_background": "light"
     },
     "output_type": "display_data"
    }
   ],
   "source": [
    "#Additional supporting graphs\n",
    "g2 = plot_learning_curve(KM_model_fit, \"K-means learning curves\", X_train, y_train,\n",
    "                        ylim = [0.1,1.01], cv = 15, \n",
    "                        train_sizes = [0.05, 0.1, 0.2, 0.3, 0.4, 0.5, 0.6, 0.7, 0.8, 0.9, 1])\n",
    "plt.show()\n",
    "\n",
    "#y_pred_pruned =dt_prunned2.predict(X_test)\n",
    "#print(\"Accuracy:\",metrics.accuracy_score(y_test, y_pred_pruned))\n",
    "#cross_val_score(clf, iris.data, iris.target, cv=10)"
   ]
  },
  {
   "cell_type": "code",
   "execution_count": null,
   "metadata": {},
   "outputs": [],
   "source": []
  },
  {
   "cell_type": "code",
   "execution_count": null,
   "metadata": {},
   "outputs": [],
   "source": []
  },
  {
   "cell_type": "markdown",
   "metadata": {},
   "source": [
    "## Expectation Maximization"
   ]
  },
  {
   "cell_type": "code",
   "execution_count": 30,
   "metadata": {},
   "outputs": [
    {
     "data": {
      "text/plain": [
       "Text(0.5, 1.0, 'Elbow curve EM')"
      ]
     },
     "execution_count": 30,
     "metadata": {},
     "output_type": "execute_result"
    },
    {
     "data": {
      "image/png": "[encoded data removed]",
      "text/plain": [
       "<Figure size 720x432 with 1 Axes>"
      ]
     },
     "metadata": {
      "needs_background": "light"
     },
     "output_type": "display_data"
    }
   ],
   "source": [
    "# although we already know we want to obtain 2 clusters, let's also valdiate if there are many groups that can be formed using this data. Let's plot using some of the features we know are related\n",
    "from sklearn.mixture import GaussianMixture as EM\n",
    "from sklearn.metrics import silhouette_score as sil_score, f1_score, homogeneity_score\n",
    "\n",
    "kdist = list(np.arange(2,25,1))\n",
    "scores_EM_b = []\n",
    "\n",
    "for k in kdist:\n",
    "    em = EM(n_components=k,covariance_type='diag',n_init=1,warm_start=True,random_state=100).fit(X_train)\n",
    "    labels = em.predict(X_train)\n",
    "    scores_EM_b.append(sil_score(X_train, labels))\n",
    "\n",
    "    \n",
    "plt.figure(figsize=(10,6))\n",
    "plt.grid(True)\n",
    "plt.plot(kdist, scores_EM_b)\n",
    "plt.xlabel(\"Distributions\")\n",
    "plt.ylabel(\"Score\")\n",
    "plt.title(\"Elbow curve EM\",fontsize=15)\n",
    "\n",
    "# There is no clear elbow, but between 2 or 3 seems reasonable"
   ]
  },
  {
   "cell_type": "code",
   "execution_count": 31,
   "metadata": {},
   "outputs": [
    {
     "data": {
      "image/png": "[encoded data removed]",
      "text/plain": [
       "<Figure size 432x288 with 1 Axes>"
      ]
     },
     "metadata": {
      "needs_background": "light"
     },
     "output_type": "display_data"
    }
   ],
   "source": [
    "#We Know we want 2 clusters, but let's see how the accuracy changes as clusters increases. \n",
    "#Specifically, let's check if the cluster classification is better than classifying all members as a single class.\n",
    "scores_t_EM = []\n",
    "for n in range(1,18):\n",
    "    EM_model = EM(n_components=n,covariance_type='diag',n_init=1,warm_start=True,random_state=100)\n",
    "    EM_model_fit = EM_model.fit(X_train,y_train)\n",
    "    \n",
    "    y_pred_EM =  EM_model_fit.predict(X_test)\n",
    "    \n",
    "    scores_t_EM.append(accuracy_score(y_test,y_pred_EM))\n",
    "\n",
    "# plot clusters vs accuracy\n",
    "kdis = list(np.arange(1,18,1))\n",
    "fig, ax = plt.subplots()\n",
    "ax.plot(kdis, scores_t_EM)\n",
    "ax.grid(True)\n",
    "ax.set_xlabel('No. Distributions')\n",
    "ax.set_ylabel('Accuracy Score')\n",
    "ax.set_title('Accuracy by no. clusters')\n",
    "plt.show()"
   ]
  },
  {
   "cell_type": "code",
   "execution_count": 32,
   "metadata": {},
   "outputs": [
    {
     "name": "stdout",
     "output_type": "stream",
     "text": [
      "Churn on test dataset:\n",
      "[0.7965 0.2035]\n",
      "Churned predicted by EM:\n",
      "[0.2445 0.7555]\n"
     ]
    }
   ],
   "source": [
    "#Build and Fit model\n",
    "EM_model = EM(n_components=2,covariance_type='diag',n_init=1,warm_start=True,random_state=100).fit(X_train)\n",
    "EM_model_fit = EM_model.fit(X_train,y_train)\n",
    "\n",
    "#Predict labels\n",
    "y_pred_EM =  EM_model_fit.predict(X_test)\n",
    "y_pred_EM\n",
    "\n",
    "#Churn on test set\n",
    "unique_t, counts_t = np.unique(y_test, return_counts=True)\n",
    "Churn_rate_test = counts_t / len(y_test)\n",
    "print(\"Churn on test dataset:\")\n",
    "print(Churn_rate_test)\n",
    "\n",
    "#Predicted churn\n",
    "unique, counts = np.unique(y_pred_EM, return_counts=True)\n",
    "Churn_rate_y_EM = counts / len(y_pred_EM)\n",
    "print(\"Churned predicted by EM:\")\n",
    "print(Churn_rate_y_EM)\n",
    "#print(counts)\n",
    "#Churn_rate_y = Churn_rate.to_frame()\n",
    "#dict(zip(unique, counts))\n",
    "#counts"
   ]
  },
  {
   "cell_type": "code",
   "execution_count": 33,
   "metadata": {},
   "outputs": [
    {
     "data": {
      "image/png": "[encoded data removed]",
      "text/plain": [
       "<Figure size 432x288 with 2 Axes>"
      ]
     },
     "metadata": {
      "needs_background": "light"
     },
     "output_type": "display_data"
    },
    {
     "name": "stdout",
     "output_type": "stream",
     "text": [
      "F1:\n",
      "0.33993743482794575\n",
      "Accuracy\n",
      "0.367\n"
     ]
    }
   ],
   "source": [
    "#Create confussion matrix to compare\n",
    "#cm= confusion_matrix(y_test,y_pred)\n",
    "\n",
    "#Confusion Matrix \n",
    "#tn, fp, fn, tp = cm.ravel()\n",
    "#print(tn, fp, fn, tp)\n",
    "\n",
    "data1 = {'y_Actual':   y_test,\n",
    "        'y_Predicted': y_pred_EM\n",
    "        }\n",
    "\n",
    "df = pd.DataFrame(data1, columns=['y_Actual','y_Predicted'])\n",
    "confusion_matrix_df = pd.crosstab(df['y_Actual'], df['y_Predicted'], rownames=['Actual'], colnames=['Predicted'])\n",
    "\n",
    "sn.heatmap(confusion_matrix_df, annot=True, fmt=\"d\")\n",
    "plt.show()\n",
    "\n",
    "#Calculate F1 and accuracy\n",
    "print(\"F1:\")\n",
    "print(f1_score(y_test,y_pred_EM))\n",
    "print(\"Accuracy\")\n",
    "print(accuracy_score(y_test,y_pred_EM))"
   ]
  },
  {
   "cell_type": "code",
   "execution_count": 34,
   "metadata": {},
   "outputs": [
    {
     "data": {
      "image/png": "[encoded data removed]",
      "text/plain": [
       "<Figure size 1800x360 with 4 Axes>"
      ]
     },
     "metadata": {
      "needs_background": "light"
     },
     "output_type": "display_data"
    }
   ],
   "source": [
    "#Additional supporting graphs\n",
    "g1 = plot_learning_curve(EM_model_fit, \"EM learning curves\", X_train, y_train,\n",
    "                        ylim = [0.1,1.01], cv = 15, \n",
    "                        train_sizes = [0.05, 0.1, 0.2, 0.3, 0.4, 0.5, 0.6, 0.7, 0.8, 0.9, 1])\n",
    "plt.show()\n",
    "\n",
    "#y_pred_pruned =dt_prunned2.predict(X_test)\n",
    "#print(\"Accuracy:\",metrics.accuracy_score(y_test, y_pred_pruned))\n",
    "#cross_val_score(clf, iris.data, iris.target, cv=10)"
   ]
  },
  {
   "cell_type": "code",
   "execution_count": null,
   "metadata": {},
   "outputs": [],
   "source": []
  },
  {
   "cell_type": "code",
   "execution_count": null,
   "metadata": {},
   "outputs": [],
   "source": []
  },
  {
   "cell_type": "markdown",
   "metadata": {},
   "source": [
    "# Apply the dimensionality reduction algorithms"
   ]
  },
  {
   "cell_type": "markdown",
   "metadata": {},
   "source": [
    "## PCA"
   ]
  },
  {
   "cell_type": "code",
   "execution_count": 35,
   "metadata": {},
   "outputs": [
    {
     "data": {
      "image/png": "[encoded data removed]",
      "text/plain": [
       "<Figure size 432x288 with 2 Axes>"
      ]
     },
     "metadata": {
      "needs_background": "light"
     },
     "output_type": "display_data"
    }
   ],
   "source": [
    "#Ref: https://scikit-learn.org/stable/auto_examples/decomposition/plot_pca_iris.html\n",
    "from sklearn.decomposition import PCA\n",
    "\n",
    "# Separating out the features\n",
    "x_PCA = x.copy()\n",
    "#x_PCA = x_PCA.drop(columns= ['Geo1', 'Geo2', 'Geo3', 'Tenure'])\n",
    "# Standardizing the features\n",
    "x_PCA = StandardScaler().fit_transform(x_PCA)\n",
    "\n",
    "pca = PCA(random_state=0).fit(x_PCA)\n",
    "\n",
    "cum_var = np.cumsum(pca.explained_variance_ratio_)\n",
    "\n",
    "fig, ax1 = plt.subplots()\n",
    "ax1.plot(list(range(len(pca.explained_variance_ratio_))), cum_var, 'b-')\n",
    "ax1.set_xlabel('# of Principal Components')\n",
    "    # Make the y-axis label, ticks and tick labels match the line color.\n",
    "ax1.set_ylabel('Explained Variance Ratio', color='b')\n",
    "ax1.tick_params('y', colors='b')\n",
    "plt.grid(False)\n",
    "\n",
    "ax2 = ax1.twinx()\n",
    "ax2.plot(list(range(len(pca.singular_values_))), pca.singular_values_, 'r-')\n",
    "ax2.set_ylabel('Eigenvalues', color='r')\n",
    "ax2.tick_params('y', colors='r')\n",
    "plt.grid(False)\n",
    "\n",
    "plt.title(\"PCA Explained Variance vs Eigenvalues: \")\n",
    "fig.tight_layout()\n",
    "plt.show()"
   ]
  },
  {
   "cell_type": "code",
   "execution_count": 36,
   "metadata": {},
   "outputs": [
    {
     "data": {
      "text/html": [
       "<div>\n",
       "<style scoped>\n",
       "    .dataframe tbody tr th:only-of-type {\n",
       "        vertical-align: middle;\n",
       "    }\n",
       "\n",
       "    .dataframe tbody tr th {\n",
       "        vertical-align: top;\n",
       "    }\n",
       "\n",
       "    .dataframe thead th {\n",
       "        text-align: right;\n",
       "    }\n",
       "</style>\n",
       "<table border=\"1\" class=\"dataframe\">\n",
       "  <thead>\n",
       "    <tr style=\"text-align: right;\">\n",
       "      <th></th>\n",
       "      <th>PC 1</th>\n",
       "      <th>PC 2</th>\n",
       "      <th>PC 3</th>\n",
       "      <th>PC 4</th>\n",
       "      <th>PC 5</th>\n",
       "      <th>PC 6</th>\n",
       "      <th>PC 7</th>\n",
       "      <th>Exited</th>\n",
       "    </tr>\n",
       "  </thead>\n",
       "  <tbody>\n",
       "    <tr>\n",
       "      <th>0</th>\n",
       "      <td>-1.399128</td>\n",
       "      <td>-0.582200</td>\n",
       "      <td>-0.837377</td>\n",
       "      <td>0.822783</td>\n",
       "      <td>0.455010</td>\n",
       "      <td>0.955951</td>\n",
       "      <td>-0.225965</td>\n",
       "      <td>1</td>\n",
       "    </tr>\n",
       "    <tr>\n",
       "      <th>1</th>\n",
       "      <td>0.656222</td>\n",
       "      <td>1.714658</td>\n",
       "      <td>-1.781260</td>\n",
       "      <td>0.591485</td>\n",
       "      <td>2.077297</td>\n",
       "      <td>0.142211</td>\n",
       "      <td>-0.223126</td>\n",
       "      <td>0</td>\n",
       "    </tr>\n",
       "    <tr>\n",
       "      <th>2</th>\n",
       "      <td>-0.769508</td>\n",
       "      <td>-0.734659</td>\n",
       "      <td>2.072312</td>\n",
       "      <td>0.081965</td>\n",
       "      <td>0.211126</td>\n",
       "      <td>1.619353</td>\n",
       "      <td>0.902164</td>\n",
       "      <td>1</td>\n",
       "    </tr>\n",
       "    <tr>\n",
       "      <th>3</th>\n",
       "      <td>-1.682327</td>\n",
       "      <td>-0.258430</td>\n",
       "      <td>0.600436</td>\n",
       "      <td>0.829336</td>\n",
       "      <td>2.063284</td>\n",
       "      <td>-0.362797</td>\n",
       "      <td>-1.196717</td>\n",
       "      <td>0</td>\n",
       "    </tr>\n",
       "    <tr>\n",
       "      <th>4</th>\n",
       "      <td>1.001920</td>\n",
       "      <td>1.521599</td>\n",
       "      <td>-1.617202</td>\n",
       "      <td>0.706661</td>\n",
       "      <td>0.016331</td>\n",
       "      <td>-0.628333</td>\n",
       "      <td>-1.186785</td>\n",
       "      <td>0</td>\n",
       "    </tr>\n",
       "    <tr>\n",
       "      <th>...</th>\n",
       "      <td>...</td>\n",
       "      <td>...</td>\n",
       "      <td>...</td>\n",
       "      <td>...</td>\n",
       "      <td>...</td>\n",
       "      <td>...</td>\n",
       "      <td>...</td>\n",
       "      <td>...</td>\n",
       "    </tr>\n",
       "    <tr>\n",
       "      <th>9995</th>\n",
       "      <td>-1.723041</td>\n",
       "      <td>-0.220867</td>\n",
       "      <td>0.886222</td>\n",
       "      <td>-0.152909</td>\n",
       "      <td>-0.863942</td>\n",
       "      <td>-0.846688</td>\n",
       "      <td>-0.500459</td>\n",
       "      <td>0</td>\n",
       "    </tr>\n",
       "    <tr>\n",
       "      <th>9996</th>\n",
       "      <td>-1.061108</td>\n",
       "      <td>-0.789180</td>\n",
       "      <td>-0.613669</td>\n",
       "      <td>-1.015715</td>\n",
       "      <td>-1.422243</td>\n",
       "      <td>0.704879</td>\n",
       "      <td>1.503186</td>\n",
       "      <td>0</td>\n",
       "    </tr>\n",
       "    <tr>\n",
       "      <th>9997</th>\n",
       "      <td>-1.449490</td>\n",
       "      <td>-0.474377</td>\n",
       "      <td>-0.837632</td>\n",
       "      <td>0.625492</td>\n",
       "      <td>0.445260</td>\n",
       "      <td>-0.377276</td>\n",
       "      <td>-0.560263</td>\n",
       "      <td>1</td>\n",
       "    </tr>\n",
       "    <tr>\n",
       "      <th>9998</th>\n",
       "      <td>1.465701</td>\n",
       "      <td>-0.254560</td>\n",
       "      <td>1.325498</td>\n",
       "      <td>0.434708</td>\n",
       "      <td>-0.759291</td>\n",
       "      <td>-0.806278</td>\n",
       "      <td>-0.934087</td>\n",
       "      <td>1</td>\n",
       "    </tr>\n",
       "    <tr>\n",
       "      <th>9999</th>\n",
       "      <td>-0.456719</td>\n",
       "      <td>-1.242616</td>\n",
       "      <td>-0.128815</td>\n",
       "      <td>-1.090771</td>\n",
       "      <td>0.146143</td>\n",
       "      <td>-0.251351</td>\n",
       "      <td>-1.907376</td>\n",
       "      <td>0</td>\n",
       "    </tr>\n",
       "  </tbody>\n",
       "</table>\n",
       "<p>10000 rows × 8 columns</p>\n",
       "</div>"
      ],
      "text/plain": [
       "          PC 1      PC 2      PC 3      PC 4      PC 5      PC 6      PC 7  \\\n",
       "0    -1.399128 -0.582200 -0.837377  0.822783  0.455010  0.955951 -0.225965   \n",
       "1     0.656222  1.714658 -1.781260  0.591485  2.077297  0.142211 -0.223126   \n",
       "2    -0.769508 -0.734659  2.072312  0.081965  0.211126  1.619353  0.902164   \n",
       "3    -1.682327 -0.258430  0.600436  0.829336  2.063284 -0.362797 -1.196717   \n",
       "4     1.001920  1.521599 -1.617202  0.706661  0.016331 -0.628333 -1.186785   \n",
       "...        ...       ...       ...       ...       ...       ...       ...   \n",
       "9995 -1.723041 -0.220867  0.886222 -0.152909 -0.863942 -0.846688 -0.500459   \n",
       "9996 -1.061108 -0.789180 -0.613669 -1.015715 -1.422243  0.704879  1.503186   \n",
       "9997 -1.449490 -0.474377 -0.837632  0.625492  0.445260 -0.377276 -0.560263   \n",
       "9998  1.465701 -0.254560  1.325498  0.434708 -0.759291 -0.806278 -0.934087   \n",
       "9999 -0.456719 -1.242616 -0.128815 -1.090771  0.146143 -0.251351 -1.907376   \n",
       "\n",
       "      Exited  \n",
       "0          1  \n",
       "1          0  \n",
       "2          1  \n",
       "3          0  \n",
       "4          0  \n",
       "...      ...  \n",
       "9995       0  \n",
       "9996       0  \n",
       "9997       1  \n",
       "9998       1  \n",
       "9999       0  \n",
       "\n",
       "[10000 rows x 8 columns]"
      ]
     },
     "execution_count": 36,
     "metadata": {},
     "output_type": "execute_result"
    }
   ],
   "source": [
    "## 6 PC seems like a good number, we retain 80% of the data and reduced by 50% the features.\n",
    "pca = PCA(n_components=7)\n",
    "principalComponents = pca.fit_transform(x_PCA)\n",
    "principalDf = pd.DataFrame(data = principalComponents\n",
    "             , columns = ['PC 1', 'PC 2', 'PC 3', 'PC 4', 'PC 5', 'PC 6', 'PC 7'])\n",
    "\n",
    "finalDf = pd.concat([principalDf, y.to_frame().reset_index()[['Exited']]], axis = 1)\n",
    "finalDf"
   ]
  },
  {
   "cell_type": "code",
   "execution_count": null,
   "metadata": {},
   "outputs": [],
   "source": []
  },
  {
   "cell_type": "code",
   "execution_count": null,
   "metadata": {},
   "outputs": [],
   "source": []
  },
  {
   "cell_type": "code",
   "execution_count": null,
   "metadata": {},
   "outputs": [],
   "source": []
  },
  {
   "cell_type": "markdown",
   "metadata": {},
   "source": [
    "## ICA"
   ]
  },
  {
   "cell_type": "code",
   "execution_count": 37,
   "metadata": {},
   "outputs": [
    {
     "data": {
      "image/png": "[encoded data removed]",
      "text/plain": [
       "<Figure size 432x288 with 1 Axes>"
      ]
     },
     "metadata": {
      "needs_background": "light"
     },
     "output_type": "display_data"
    }
   ],
   "source": [
    "from sklearn.decomposition import FastICA\n",
    "\n",
    "# Separating out the features\n",
    "x_ICA = x.copy()\n",
    "# Standardizing the features\n",
    "x_ICA = StandardScaler().fit_transform(x_ICA)\n",
    "\n",
    "dims = list(np.arange(2,12,1))\n",
    "dims.append(x_ICA.shape[1])\n",
    "    \n",
    "ica = FastICA(random_state=0).fit(x_ICA)\n",
    "\n",
    "kurt = []\n",
    "\n",
    "for dim in dims:\n",
    "    ica.set_params(n_components=dim)\n",
    "    tmp = ica.fit_transform(x_ICA)\n",
    "    tmp = pd.DataFrame(tmp)\n",
    "    tmp = tmp.kurt(axis=0)\n",
    "    kurt.append(tmp.abs().mean())\n",
    "\n",
    "plt.figure()\n",
    "plt.title(\"ICA Kurtosis: \")\n",
    "plt.xlabel(\"Independent Components\")\n",
    "plt.ylabel(\"Avg Kurtosis Across IC\")\n",
    "plt.plot(dims, kurt, 'b-')\n",
    "plt.grid(False)\n",
    "plt.show()\n"
   ]
  },
  {
   "cell_type": "code",
   "execution_count": 38,
   "metadata": {},
   "outputs": [
    {
     "data": {
      "text/html": [
       "<div>\n",
       "<style scoped>\n",
       "    .dataframe tbody tr th:only-of-type {\n",
       "        vertical-align: middle;\n",
       "    }\n",
       "\n",
       "    .dataframe tbody tr th {\n",
       "        vertical-align: top;\n",
       "    }\n",
       "\n",
       "    .dataframe thead th {\n",
       "        text-align: right;\n",
       "    }\n",
       "</style>\n",
       "<table border=\"1\" class=\"dataframe\">\n",
       "  <thead>\n",
       "    <tr style=\"text-align: right;\">\n",
       "      <th></th>\n",
       "      <th>IC 1</th>\n",
       "      <th>IC 2</th>\n",
       "      <th>IC 3</th>\n",
       "      <th>IC 4</th>\n",
       "      <th>IC 5</th>\n",
       "      <th>IC 6</th>\n",
       "      <th>Exited</th>\n",
       "    </tr>\n",
       "  </thead>\n",
       "  <tbody>\n",
       "    <tr>\n",
       "      <th>0</th>\n",
       "      <td>-0.002928</td>\n",
       "      <td>-0.003180</td>\n",
       "      <td>-0.004883</td>\n",
       "      <td>-0.011646</td>\n",
       "      <td>-0.006185</td>\n",
       "      <td>0.012106</td>\n",
       "      <td>1</td>\n",
       "    </tr>\n",
       "    <tr>\n",
       "      <th>1</th>\n",
       "      <td>0.015329</td>\n",
       "      <td>-0.011753</td>\n",
       "      <td>-0.015316</td>\n",
       "      <td>0.009804</td>\n",
       "      <td>-0.005423</td>\n",
       "      <td>0.014994</td>\n",
       "      <td>0</td>\n",
       "    </tr>\n",
       "    <tr>\n",
       "      <th>2</th>\n",
       "      <td>-0.012110</td>\n",
       "      <td>0.013065</td>\n",
       "      <td>0.006458</td>\n",
       "      <td>-0.005456</td>\n",
       "      <td>0.012890</td>\n",
       "      <td>0.012726</td>\n",
       "      <td>1</td>\n",
       "    </tr>\n",
       "    <tr>\n",
       "      <th>3</th>\n",
       "      <td>0.016526</td>\n",
       "      <td>0.008610</td>\n",
       "      <td>-0.001681</td>\n",
       "      <td>-0.010540</td>\n",
       "      <td>0.003147</td>\n",
       "      <td>0.014471</td>\n",
       "      <td>0</td>\n",
       "    </tr>\n",
       "    <tr>\n",
       "      <th>4</th>\n",
       "      <td>0.006992</td>\n",
       "      <td>-0.007361</td>\n",
       "      <td>-0.009480</td>\n",
       "      <td>0.011384</td>\n",
       "      <td>-0.014153</td>\n",
       "      <td>-0.001891</td>\n",
       "      <td>0</td>\n",
       "    </tr>\n",
       "    <tr>\n",
       "      <th>...</th>\n",
       "      <td>...</td>\n",
       "      <td>...</td>\n",
       "      <td>...</td>\n",
       "      <td>...</td>\n",
       "      <td>...</td>\n",
       "      <td>...</td>\n",
       "      <td>...</td>\n",
       "    </tr>\n",
       "    <tr>\n",
       "      <th>9995</th>\n",
       "      <td>-0.000278</td>\n",
       "      <td>0.012299</td>\n",
       "      <td>0.000225</td>\n",
       "      <td>-0.010234</td>\n",
       "      <td>0.000793</td>\n",
       "      <td>-0.011050</td>\n",
       "      <td>0</td>\n",
       "    </tr>\n",
       "    <tr>\n",
       "      <th>9996</th>\n",
       "      <td>-0.015088</td>\n",
       "      <td>-0.006420</td>\n",
       "      <td>-0.002783</td>\n",
       "      <td>-0.010734</td>\n",
       "      <td>0.001627</td>\n",
       "      <td>-0.009072</td>\n",
       "      <td>0</td>\n",
       "    </tr>\n",
       "    <tr>\n",
       "      <th>9997</th>\n",
       "      <td>0.006623</td>\n",
       "      <td>-0.001510</td>\n",
       "      <td>-0.003808</td>\n",
       "      <td>-0.011652</td>\n",
       "      <td>-0.007391</td>\n",
       "      <td>0.002923</td>\n",
       "      <td>1</td>\n",
       "    </tr>\n",
       "    <tr>\n",
       "      <th>9998</th>\n",
       "      <td>-0.000208</td>\n",
       "      <td>0.009342</td>\n",
       "      <td>0.013907</td>\n",
       "      <td>0.009154</td>\n",
       "      <td>-0.001644</td>\n",
       "      <td>-0.006892</td>\n",
       "      <td>1</td>\n",
       "    </tr>\n",
       "    <tr>\n",
       "      <th>9999</th>\n",
       "      <td>0.001595</td>\n",
       "      <td>-0.006545</td>\n",
       "      <td>0.004255</td>\n",
       "      <td>-0.009095</td>\n",
       "      <td>0.007843</td>\n",
       "      <td>-0.004972</td>\n",
       "      <td>0</td>\n",
       "    </tr>\n",
       "  </tbody>\n",
       "</table>\n",
       "<p>10000 rows × 7 columns</p>\n",
       "</div>"
      ],
      "text/plain": [
       "          IC 1      IC 2      IC 3      IC 4      IC 5      IC 6  Exited\n",
       "0    -0.002928 -0.003180 -0.004883 -0.011646 -0.006185  0.012106       1\n",
       "1     0.015329 -0.011753 -0.015316  0.009804 -0.005423  0.014994       0\n",
       "2    -0.012110  0.013065  0.006458 -0.005456  0.012890  0.012726       1\n",
       "3     0.016526  0.008610 -0.001681 -0.010540  0.003147  0.014471       0\n",
       "4     0.006992 -0.007361 -0.009480  0.011384 -0.014153 -0.001891       0\n",
       "...        ...       ...       ...       ...       ...       ...     ...\n",
       "9995 -0.000278  0.012299  0.000225 -0.010234  0.000793 -0.011050       0\n",
       "9996 -0.015088 -0.006420 -0.002783 -0.010734  0.001627 -0.009072       0\n",
       "9997  0.006623 -0.001510 -0.003808 -0.011652 -0.007391  0.002923       1\n",
       "9998 -0.000208  0.009342  0.013907  0.009154 -0.001644 -0.006892       1\n",
       "9999  0.001595 -0.006545  0.004255 -0.009095  0.007843 -0.004972       0\n",
       "\n",
       "[10000 rows x 7 columns]"
      ]
     },
     "execution_count": 38,
     "metadata": {},
     "output_type": "execute_result"
    }
   ],
   "source": [
    "## 2 IC seems like a good number.\n",
    "ica = FastICA(n_components=6)\n",
    "IndComponents = ica.fit_transform(x_ICA)\n",
    "IndComponentsDf = pd.DataFrame(data = IndComponents\n",
    "             , columns = ['IC 1', 'IC 2', 'IC 3', 'IC 4', 'IC 5', 'IC 6'])\n",
    "\n",
    "finalDf_ICA = pd.concat([IndComponentsDf, y.to_frame().reset_index()[['Exited']]], axis = 1)\n",
    "finalDf_ICA"
   ]
  },
  {
   "cell_type": "markdown",
   "metadata": {},
   "source": [
    "## Randomized Projections"
   ]
  },
  {
   "cell_type": "code",
   "execution_count": 39,
   "metadata": {},
   "outputs": [
    {
     "data": {
      "image/png": "[encoded data removed]",
      "text/plain": [
       "<Figure size 432x288 with 2 Axes>"
      ]
     },
     "metadata": {
      "needs_background": "light"
     },
     "output_type": "display_data"
    }
   ],
   "source": [
    "from sklearn.decomposition import PCA, FastICA as ICA\n",
    "from sklearn.random_projection import GaussianRandomProjection as GRP, SparseRandomProjection as RCA\n",
    "from sklearn.ensemble import RandomForestClassifier as RFC\n",
    "from itertools import product\n",
    "from collections import defaultdict\n",
    "from sklearn.metrics.pairwise import pairwise_distances\n",
    "\n",
    "# Separating out the features\n",
    "x_RCA = x.copy()\n",
    "# Standardizing the features\n",
    "x_RCA = StandardScaler().fit_transform(x_RCA)\n",
    "\n",
    "tmp = defaultdict(dict)\n",
    "\n",
    "\n",
    "def pairwiseDistCorr(X1,X2):\n",
    "    assert X1.shape[0] == X2.shape[0]\n",
    "    \n",
    "    d1 = pairwise_distances(X1)\n",
    "    d2 = pairwise_distances(X2)\n",
    "    return np.corrcoef(d1.ravel(),d2.ravel())[0,1]\n",
    "\n",
    "\n",
    "for i,dim in product(range(5),dims):\n",
    "    rca = RCA(random_state=i, n_components=dim)\n",
    "    assert rca.fit_transform(x_RCA).shape[0] == x_RCA.shape[0]\n",
    "    \n",
    "    d1 = pairwise_distances(rca.fit_transform(x_RCA))\n",
    "    d2 = pairwise_distances(x_RCA)\n",
    "    \n",
    "    tmp[dim][i] = np.corrcoef(d1.ravel(),d2.ravel())[0,1]\n",
    "tmp = pd.DataFrame(tmp).T\n",
    "mean_recon = tmp.mean(axis=1).tolist()\n",
    "std_recon = tmp.std(axis=1).tolist()\n",
    "\n",
    "fig, ax1 = plt.subplots()\n",
    "ax1.plot(dims,mean_recon, 'b-')\n",
    "ax1.set_xlabel('Random Components')\n",
    "# Make the y-axis label, ticks and tick labels match the line color.\n",
    "ax1.set_ylabel('Mean Reconstruction Correlation', color='b')\n",
    "ax1.tick_params('y', colors='b')\n",
    "plt.grid(False)\n",
    "\n",
    "ax2 = ax1.twinx()\n",
    "ax2.plot(dims,std_recon, 'm-')\n",
    "ax2.set_ylabel('STD Reconstruction Correlation', color='m')\n",
    "ax2.tick_params('y', colors='m')\n",
    "plt.grid(False)\n",
    "\n",
    "plt.title(\"Random Components for 5 Restarts: \")\n",
    "fig.tight_layout()\n",
    "plt.show()"
   ]
  },
  {
   "cell_type": "code",
   "execution_count": 40,
   "metadata": {},
   "outputs": [
    {
     "data": {
      "text/html": [
       "<div>\n",
       "<style scoped>\n",
       "    .dataframe tbody tr th:only-of-type {\n",
       "        vertical-align: middle;\n",
       "    }\n",
       "\n",
       "    .dataframe tbody tr th {\n",
       "        vertical-align: top;\n",
       "    }\n",
       "\n",
       "    .dataframe thead th {\n",
       "        text-align: right;\n",
       "    }\n",
       "</style>\n",
       "<table border=\"1\" class=\"dataframe\">\n",
       "  <thead>\n",
       "    <tr style=\"text-align: right;\">\n",
       "      <th></th>\n",
       "      <th>RC 1</th>\n",
       "      <th>RC 2</th>\n",
       "      <th>RC 3</th>\n",
       "      <th>RC 4</th>\n",
       "      <th>RC 5</th>\n",
       "      <th>Exited</th>\n",
       "    </tr>\n",
       "  </thead>\n",
       "  <tbody>\n",
       "    <tr>\n",
       "      <th>0</th>\n",
       "      <td>-1.556401</td>\n",
       "      <td>-0.329975</td>\n",
       "      <td>1.138650</td>\n",
       "      <td>0.758764</td>\n",
       "      <td>-1.373751</td>\n",
       "      <td>1</td>\n",
       "    </tr>\n",
       "    <tr>\n",
       "      <th>1</th>\n",
       "      <td>-0.343645</td>\n",
       "      <td>-2.258173</td>\n",
       "      <td>1.521196</td>\n",
       "      <td>0.758764</td>\n",
       "      <td>-1.816192</td>\n",
       "      <td>0</td>\n",
       "    </tr>\n",
       "    <tr>\n",
       "      <th>2</th>\n",
       "      <td>3.246628</td>\n",
       "      <td>1.335502</td>\n",
       "      <td>0.419414</td>\n",
       "      <td>-2.103417</td>\n",
       "      <td>2.025545</td>\n",
       "      <td>1</td>\n",
       "    </tr>\n",
       "    <tr>\n",
       "      <th>3</th>\n",
       "      <td>-0.579903</td>\n",
       "      <td>1.335502</td>\n",
       "      <td>0.737484</td>\n",
       "      <td>-0.672326</td>\n",
       "      <td>-1.258695</td>\n",
       "      <td>0</td>\n",
       "    </tr>\n",
       "    <tr>\n",
       "      <th>4</th>\n",
       "      <td>-1.871473</td>\n",
       "      <td>-2.258173</td>\n",
       "      <td>-0.850773</td>\n",
       "      <td>0.758764</td>\n",
       "      <td>2.866129</td>\n",
       "      <td>0</td>\n",
       "    </tr>\n",
       "    <tr>\n",
       "      <th>...</th>\n",
       "      <td>...</td>\n",
       "      <td>...</td>\n",
       "      <td>...</td>\n",
       "      <td>...</td>\n",
       "      <td>...</td>\n",
       "      <td>...</td>\n",
       "    </tr>\n",
       "    <tr>\n",
       "      <th>9995</th>\n",
       "      <td>-1.199983</td>\n",
       "      <td>1.335502</td>\n",
       "      <td>-1.033841</td>\n",
       "      <td>-0.672326</td>\n",
       "      <td>2.303332</td>\n",
       "      <td>0</td>\n",
       "    </tr>\n",
       "    <tr>\n",
       "      <th>9996</th>\n",
       "      <td>0.095986</td>\n",
       "      <td>-0.329975</td>\n",
       "      <td>-0.276779</td>\n",
       "      <td>0.758764</td>\n",
       "      <td>0.036600</td>\n",
       "      <td>0</td>\n",
       "    </tr>\n",
       "    <tr>\n",
       "      <th>9997</th>\n",
       "      <td>-2.331501</td>\n",
       "      <td>-0.329975</td>\n",
       "      <td>-1.075505</td>\n",
       "      <td>0.758764</td>\n",
       "      <td>-0.127903</td>\n",
       "      <td>1</td>\n",
       "    </tr>\n",
       "    <tr>\n",
       "      <th>9998</th>\n",
       "      <td>-0.207068</td>\n",
       "      <td>1.335502</td>\n",
       "      <td>-0.466831</td>\n",
       "      <td>-0.672326</td>\n",
       "      <td>-0.134676</td>\n",
       "      <td>1</td>\n",
       "    </tr>\n",
       "    <tr>\n",
       "      <th>9999</th>\n",
       "      <td>0.355304</td>\n",
       "      <td>1.335502</td>\n",
       "      <td>-0.926887</td>\n",
       "      <td>0.758764</td>\n",
       "      <td>1.605928</td>\n",
       "      <td>0</td>\n",
       "    </tr>\n",
       "  </tbody>\n",
       "</table>\n",
       "<p>10000 rows × 6 columns</p>\n",
       "</div>"
      ],
      "text/plain": [
       "          RC 1      RC 2      RC 3      RC 4      RC 5  Exited\n",
       "0    -1.556401 -0.329975  1.138650  0.758764 -1.373751       1\n",
       "1    -0.343645 -2.258173  1.521196  0.758764 -1.816192       0\n",
       "2     3.246628  1.335502  0.419414 -2.103417  2.025545       1\n",
       "3    -0.579903  1.335502  0.737484 -0.672326 -1.258695       0\n",
       "4    -1.871473 -2.258173 -0.850773  0.758764  2.866129       0\n",
       "...        ...       ...       ...       ...       ...     ...\n",
       "9995 -1.199983  1.335502 -1.033841 -0.672326  2.303332       0\n",
       "9996  0.095986 -0.329975 -0.276779  0.758764  0.036600       0\n",
       "9997 -2.331501 -0.329975 -1.075505  0.758764 -0.127903       1\n",
       "9998 -0.207068  1.335502 -0.466831 -0.672326 -0.134676       1\n",
       "9999  0.355304  1.335502 -0.926887  0.758764  1.605928       0\n",
       "\n",
       "[10000 rows x 6 columns]"
      ]
     },
     "execution_count": 40,
     "metadata": {},
     "output_type": "execute_result"
    }
   ],
   "source": [
    "## 2 IC seems like a good number.\n",
    "rca = RCA(n_components=5)\n",
    "RanComponents = rca.fit_transform(x_RCA)\n",
    "RanComponentsDf = pd.DataFrame(data = RanComponents\n",
    "             , columns = ['RC 1', 'RC 2', 'RC 3', 'RC 4', 'RC 5'])\n",
    "\n",
    "finalDf_RCA = pd.concat([RanComponentsDf, y.to_frame().reset_index()[['Exited']]], axis = 1)\n",
    "finalDf_RCA"
   ]
  },
  {
   "cell_type": "markdown",
   "metadata": {},
   "source": [
    "## LDA"
   ]
  },
  {
   "cell_type": "code",
   "execution_count": 43,
   "metadata": {},
   "outputs": [
    {
     "name": "stdout",
     "output_type": "stream",
     "text": [
      "[[845 748]\n",
      " [161 246]]\n",
      "              precision    recall  f1-score   support\n",
      "\n",
      "           0       0.84      0.53      0.65      1593\n",
      "           1       0.25      0.60      0.35       407\n",
      "\n",
      "    accuracy                           0.55      2000\n",
      "   macro avg       0.54      0.57      0.50      2000\n",
      "weighted avg       0.72      0.55      0.59      2000\n",
      "\n"
     ]
    }
   ],
   "source": [
    "data1 = {'y_Actual':   y_test,\n",
    "        'y_Predicted': y_pred\n",
    "        }\n",
    "\n",
    "df = pd.DataFrame(data1, columns=['y_Actual','y_Predicted'])\n",
    "confusion_matrix_df = pd.crosstab(df['y_Actual'], df['y_Predicted'], rownames=['Actual'], colnames=['Predicted'])\n",
    "\n",
    "print(confusion_matrix(y_test, y_pred))\n",
    "print(classification_report(y_test, y_pred))"
   ]
  },
  {
   "cell_type": "code",
   "execution_count": 44,
   "metadata": {},
   "outputs": [
    {
     "name": "stdout",
     "output_type": "stream",
     "text": [
      "[[1518   75]\n",
      " [ 308   99]]\n",
      "              precision    recall  f1-score   support\n",
      "\n",
      "           0       0.83      0.95      0.89      1593\n",
      "           1       0.57      0.24      0.34       407\n",
      "\n",
      "    accuracy                           0.81      2000\n",
      "   macro avg       0.70      0.60      0.61      2000\n",
      "weighted avg       0.78      0.81      0.78      2000\n",
      "\n"
     ]
    }
   ],
   "source": [
    "from sklearn.discriminant_analysis import LinearDiscriminantAnalysis as LDA\n",
    "\n",
    "# Separating out the features\n",
    "#x_LDA = x.copy()\n",
    "\n",
    "#X_train_LDA, X_test_LDA, y_train_LDA, y_test_LDA = train_test_split(finalDf.drop(columns='Exited'), finalDf['Exited'], test_size = 0.2, random_state = 0, stratify=y)\n",
    "\n",
    "# Standardizing the features\n",
    "#x_LDA = StandardScaler().fit_transform(x_LDA)\n",
    "\n",
    "#clf = LDA()\n",
    "#clf.fit(x_LDA, y)\n",
    "#LDA(n_components=None, priors=None, shrinkage=None, solver='svd',\n",
    "#  store_covariance=False, tol=0.0001)\n",
    "\n",
    "\n",
    "lda_0 = LDA()\n",
    "lda_0.fit(X_train, y_train)\n",
    "y_test_pred_0 = lda_0.predict(X_test)\n",
    "print(confusion_matrix(y_test, y_test_pred_0))\n",
    "print(classification_report(y_test, y_test_pred_0))\n"
   ]
  },
  {
   "cell_type": "code",
   "execution_count": null,
   "metadata": {},
   "outputs": [],
   "source": []
  },
  {
   "cell_type": "markdown",
   "metadata": {},
   "source": [
    "# Reproduce clustering experiments with new reduced datasets"
   ]
  },
  {
   "cell_type": "markdown",
   "metadata": {},
   "source": [
    "## PCA"
   ]
  },
  {
   "cell_type": "code",
   "execution_count": 45,
   "metadata": {},
   "outputs": [],
   "source": [
    "#Splitting data into test and train datasets\n",
    "X_train_PCA, X_test_PCA, y_train_PCA, y_test_PCA = train_test_split(finalDf.drop(columns='Exited'), finalDf['Exited'], test_size = 0.2, random_state = 0, stratify=y)\n"
   ]
  },
  {
   "cell_type": "markdown",
   "metadata": {},
   "source": [
    "### Kmeans"
   ]
  },
  {
   "cell_type": "code",
   "execution_count": 46,
   "metadata": {},
   "outputs": [
    {
     "name": "stdout",
     "output_type": "stream",
     "text": [
      "Churn on test dataset:\n",
      "[0.7965 0.2035]\n",
      "Churned predicted by Kmeans:\n",
      "[0.503 0.497]\n"
     ]
    },
    {
     "data": {
      "image/png": "[encoded data removed]",
      "text/plain": [
       "<Figure size 432x288 with 2 Axes>"
      ]
     },
     "metadata": {
      "needs_background": "light"
     },
     "output_type": "display_data"
    },
    {
     "name": "stdout",
     "output_type": "stream",
     "text": [
      "F1:\n",
      "0.35117773019271953\n",
      "Accuracy\n",
      "0.5455\n"
     ]
    }
   ],
   "source": [
    "#Create and fit model\n",
    "KM_model_PCA = KMeans(n_clusters=2,n_init=10,random_state=100) \n",
    "KM_model_fit_PCA = KM_model_PCA.fit(X_train_PCA,y_train_PCA)\n",
    "\n",
    "#Predict labels\n",
    "y_pred_PCA =  KM_model_fit_PCA.predict(X_test_PCA)\n",
    "\n",
    "#Churn on test set\n",
    "unique_t_PCA, counts_t_PCA = np.unique(y_test_PCA, return_counts=True)\n",
    "Churn_rate_test_PCA = counts_t_PCA / len(y_test_PCA)\n",
    "print(\"Churn on test dataset:\")\n",
    "print(Churn_rate_test_PCA)\n",
    "\n",
    "#Predicted churn\n",
    "unique_PCA, counts_PCA = np.unique(y_pred_PCA, return_counts=True)\n",
    "Churn_rate_y_PCA = counts_PCA / len(y_pred_PCA)\n",
    "print(\"Churned predicted by Kmeans:\")\n",
    "print(Churn_rate_y_PCA)\n",
    "#print(counts)\n",
    "#Churn_rate_y = Churn_rate.to_frame()\n",
    "dict(zip(unique_PCA, counts_PCA))\n",
    "#counts\n",
    "\n",
    "data1 = {'y_Actual':   y_test_PCA,\n",
    "        'y_Predicted': y_pred_PCA\n",
    "        }\n",
    "\n",
    "df = pd.DataFrame(data1, columns=['y_Actual','y_Predicted'])\n",
    "confusion_matrix_df = pd.crosstab(df['y_Actual'], df['y_Predicted'], rownames=['Actual'], colnames=['Predicted'])\n",
    "\n",
    "sn.heatmap(confusion_matrix_df, annot=True, fmt=\"d\")\n",
    "plt.show()\n",
    "\n",
    "#Calculate F1 and accuracy\n",
    "print(\"F1:\")\n",
    "print(f1_score(y_test_PCA,y_pred_PCA))\n",
    "print(\"Accuracy\")\n",
    "print(accuracy_score(y_test_PCA,y_pred_PCA))"
   ]
  },
  {
   "cell_type": "code",
   "execution_count": 47,
   "metadata": {},
   "outputs": [
    {
     "data": {
      "image/png": "[encoded data removed]",
      "text/plain": [
       "<Figure size 432x288 with 2 Axes>"
      ]
     },
     "metadata": {
      "needs_background": "light"
     },
     "output_type": "display_data"
    },
    {
     "name": "stdout",
     "output_type": "stream",
     "text": [
      "F1:\n",
      "0.35117773019271953\n",
      "Accuracy\n",
      "0.5455\n"
     ]
    }
   ],
   "source": [
    "#Reprint original cf to compare\n",
    "data1 = {'y_Actual':   y_test,\n",
    "        'y_Predicted': y_pred\n",
    "        }\n",
    "\n",
    "df = pd.DataFrame(data1, columns=['y_Actual','y_Predicted'])\n",
    "confusion_matrix_df = pd.crosstab(df['y_Actual'], df['y_Predicted'], rownames=['Actual'], colnames=['Predicted'])\n",
    "\n",
    "sn.heatmap(confusion_matrix_df, annot=True, fmt=\"d\")\n",
    "plt.show()\n",
    "\n",
    "#Calculate F1 and accuray score\n",
    "print(\"F1:\")\n",
    "print(f1_score(y_test,y_pred))\n",
    "print(\"Accuracy\")\n",
    "print(accuracy_score(y_test,y_pred))"
   ]
  },
  {
   "cell_type": "markdown",
   "metadata": {},
   "source": [
    "### EM"
   ]
  },
  {
   "cell_type": "code",
   "execution_count": 48,
   "metadata": {},
   "outputs": [
    {
     "name": "stdout",
     "output_type": "stream",
     "text": [
      "Churn on test dataset:\n",
      "[0.7965 0.2035]\n",
      "Churned predicted by EM:\n",
      "[0.752 0.248]\n"
     ]
    },
    {
     "data": {
      "image/png": "[encoded data removed]",
      "text/plain": [
       "<Figure size 432x288 with 2 Axes>"
      ]
     },
     "metadata": {
      "needs_background": "light"
     },
     "output_type": "display_data"
    },
    {
     "name": "stdout",
     "output_type": "stream",
     "text": [
      "F1:\n",
      "0.3588039867109635\n",
      "Accuracy\n",
      "0.7105\n"
     ]
    }
   ],
   "source": [
    "#Build and Fit model\n",
    "EM_model_PCA = EM(n_components=2,covariance_type='diag',n_init=1,warm_start=True,random_state=100).fit(X_train_PCA)\n",
    "EM_model_fit_PCA = EM_model_PCA.fit(X_train_PCA,y_train_PCA)\n",
    "\n",
    "#Predict labels\n",
    "y_pred_EM_PCA =  EM_model_fit_PCA.predict(X_test_PCA)\n",
    "y_pred_EM_PCA\n",
    "\n",
    "#Churn on test set\n",
    "unique_t_PCA, counts_t_PCA = np.unique(y_test_PCA, return_counts=True)\n",
    "Churn_rate_test_PCA = counts_t_PCA / len(y_test_PCA)\n",
    "print(\"Churn on test dataset:\")\n",
    "print(Churn_rate_test_PCA)\n",
    "\n",
    "#Predicted churn\n",
    "unique_EM_PCA, counts_EM_PCA = np.unique(y_pred_EM_PCA, return_counts=True)\n",
    "Churn_rate_y_EM_PCA = counts_EM_PCA / len(y_pred_EM_PCA)\n",
    "print(\"Churned predicted by EM:\")\n",
    "print(Churn_rate_y_EM_PCA)\n",
    "#print(counts)\n",
    "#Churn_rate_y = Churn_rate.to_frame()\n",
    "#dict(zip(unique, counts))\n",
    "#counts\n",
    "\n",
    "#Create confussion matrix to compare\n",
    "#cm= confusion_matrix(y_test,y_pred)\n",
    "\n",
    "#Confusion Matrix \n",
    "#tn, fp, fn, tp = cm.ravel()\n",
    "#print(tn, fp, fn, tp)\n",
    "\n",
    "data1 = {'y_Actual':   y_test_PCA,\n",
    "        'y_Predicted': y_pred_EM_PCA\n",
    "        }\n",
    "\n",
    "df = pd.DataFrame(data1, columns=['y_Actual','y_Predicted'])\n",
    "confusion_matrix_df = pd.crosstab(df['y_Actual'], df['y_Predicted'], rownames=['Actual'], colnames=['Predicted'])\n",
    "\n",
    "sn.heatmap(confusion_matrix_df, annot=True, fmt=\"d\")\n",
    "plt.show()\n",
    "\n",
    "#Calculate F1 and accuracy\n",
    "print(\"F1:\")\n",
    "print(f1_score(y_test_PCA,y_pred_EM_PCA))\n",
    "print(\"Accuracy\")\n",
    "print(accuracy_score(y_test_PCA,y_pred_EM_PCA))"
   ]
  },
  {
   "cell_type": "code",
   "execution_count": 49,
   "metadata": {},
   "outputs": [
    {
     "data": {
      "image/png": "[encoded data removed]",
      "text/plain": [
       "<Figure size 432x288 with 2 Axes>"
      ]
     },
     "metadata": {
      "needs_background": "light"
     },
     "output_type": "display_data"
    },
    {
     "name": "stdout",
     "output_type": "stream",
     "text": [
      "F1:\n",
      "0.33993743482794575\n",
      "Accuracy\n",
      "0.367\n"
     ]
    }
   ],
   "source": [
    "#Create confussion matrix to compare\n",
    "data1 = {'y_Actual':   y_test,\n",
    "        'y_Predicted': y_pred_EM\n",
    "        }\n",
    "\n",
    "df = pd.DataFrame(data1, columns=['y_Actual','y_Predicted'])\n",
    "confusion_matrix_df = pd.crosstab(df['y_Actual'], df['y_Predicted'], rownames=['Actual'], colnames=['Predicted'])\n",
    "\n",
    "sn.heatmap(confusion_matrix_df, annot=True, fmt=\"d\")\n",
    "plt.show()\n",
    "\n",
    "#Calculate F1 and accuracy\n",
    "print(\"F1:\")\n",
    "print(f1_score(y_test,y_pred_EM))\n",
    "print(\"Accuracy\")\n",
    "print(accuracy_score(y_test,y_pred_EM))"
   ]
  },
  {
   "cell_type": "markdown",
   "metadata": {},
   "source": [
    "## ICA"
   ]
  },
  {
   "cell_type": "code",
   "execution_count": 50,
   "metadata": {},
   "outputs": [],
   "source": [
    "#Splitting data into test and train datasets\n",
    "X_train_ICA, X_test_ICA, y_train_ICA, y_test_ICA = train_test_split(finalDf_ICA.drop(columns='Exited'), finalDf_ICA['Exited'], test_size = 0.2, random_state = 0, stratify=y)\n"
   ]
  },
  {
   "cell_type": "markdown",
   "metadata": {},
   "source": [
    "### Kmeans"
   ]
  },
  {
   "cell_type": "code",
   "execution_count": 51,
   "metadata": {},
   "outputs": [
    {
     "name": "stdout",
     "output_type": "stream",
     "text": [
      "Churn on test dataset:\n",
      "[0.7965 0.2035]\n",
      "Churned predicted by Kmeans:\n",
      "[0.497 0.503]\n"
     ]
    },
    {
     "data": {
      "image/png": "[encoded data removed]",
      "text/plain": [
       "<Figure size 432x288 with 2 Axes>"
      ]
     },
     "metadata": {
      "needs_background": "light"
     },
     "output_type": "display_data"
    },
    {
     "name": "stdout",
     "output_type": "stream",
     "text": [
      "F1:\n",
      "0.2278839348903043\n",
      "Accuracy\n",
      "0.4545\n"
     ]
    }
   ],
   "source": [
    "#Create and fit model\n",
    "KM_model_ICA = KMeans(n_clusters=2,n_init=10,random_state=100) \n",
    "KM_model_fit_ICA = KM_model_ICA.fit(X_train_ICA,y_train_ICA)\n",
    "\n",
    "#Predict labels\n",
    "y_pred_ICA =  KM_model_fit_ICA.predict(X_test_ICA)\n",
    "\n",
    "#Churn on test set\n",
    "unique_t_ICA, counts_t_ICA = np.unique(y_test_ICA, return_counts=True)\n",
    "Churn_rate_test_ICA = counts_t_ICA / len(y_test_ICA)\n",
    "print(\"Churn on test dataset:\")\n",
    "print(Churn_rate_test_ICA)\n",
    "\n",
    "#Predicted churn\n",
    "unique_ICA, counts_ICA = np.unique(y_pred_ICA, return_counts=True)\n",
    "Churn_rate_y_ICA = counts_ICA / len(y_pred_ICA)\n",
    "print(\"Churned predicted by Kmeans:\")\n",
    "print(Churn_rate_y_ICA)\n",
    "#print(counts)\n",
    "#Churn_rate_y = Churn_rate.to_frame()\n",
    "dict(zip(unique_ICA, counts_ICA))\n",
    "#counts\n",
    "\n",
    "data1 = {'y_Actual':   y_test_ICA,\n",
    "        'y_Predicted': y_pred_ICA\n",
    "        }\n",
    "\n",
    "df = pd.DataFrame(data1, columns=['y_Actual','y_Predicted'])\n",
    "confusion_matrix_df = pd.crosstab(df['y_Actual'], df['y_Predicted'], rownames=['Actual'], colnames=['Predicted'])\n",
    "\n",
    "sn.heatmap(confusion_matrix_df, annot=True, fmt=\"d\")\n",
    "plt.show()\n",
    "\n",
    "#Calculate F1 and accuracy\n",
    "print(\"F1:\")\n",
    "print(f1_score(y_test_ICA,y_pred_ICA))\n",
    "print(\"Accuracy\")\n",
    "print(accuracy_score(y_test_ICA,y_pred_ICA))"
   ]
  },
  {
   "cell_type": "code",
   "execution_count": 52,
   "metadata": {},
   "outputs": [
    {
     "data": {
      "image/png": "[encoded data removed]",
      "text/plain": [
       "<Figure size 432x288 with 2 Axes>"
      ]
     },
     "metadata": {
      "needs_background": "light"
     },
     "output_type": "display_data"
    },
    {
     "name": "stdout",
     "output_type": "stream",
     "text": [
      "F1:\n",
      "0.35117773019271953\n",
      "Accuracy\n",
      "0.5455\n"
     ]
    }
   ],
   "source": [
    "#Reprint original cf to compare\n",
    "data1 = {'y_Actual':   y_test,\n",
    "        'y_Predicted': y_pred\n",
    "        }\n",
    "\n",
    "df = pd.DataFrame(data1, columns=['y_Actual','y_Predicted'])\n",
    "confusion_matrix_df = pd.crosstab(df['y_Actual'], df['y_Predicted'], rownames=['Actual'], colnames=['Predicted'])\n",
    "\n",
    "sn.heatmap(confusion_matrix_df, annot=True, fmt=\"d\")\n",
    "plt.show()\n",
    "\n",
    "#Calculate F1 and accuray score\n",
    "print(\"F1:\")\n",
    "print(f1_score(y_test,y_pred))\n",
    "print(\"Accuracy\")\n",
    "print(accuracy_score(y_test,y_pred))"
   ]
  },
  {
   "cell_type": "markdown",
   "metadata": {},
   "source": [
    "### EM"
   ]
  },
  {
   "cell_type": "code",
   "execution_count": 53,
   "metadata": {},
   "outputs": [
    {
     "name": "stdout",
     "output_type": "stream",
     "text": [
      "Churn on test dataset:\n",
      "[0.7965 0.2035]\n",
      "Churned predicted by EM:\n",
      "[0.497 0.503]\n"
     ]
    },
    {
     "data": {
      "image/png": "[encoded data removed]",
      "text/plain": [
       "<Figure size 432x288 with 2 Axes>"
      ]
     },
     "metadata": {
      "needs_background": "light"
     },
     "output_type": "display_data"
    },
    {
     "name": "stdout",
     "output_type": "stream",
     "text": [
      "F1:\n",
      "0.2278839348903043\n",
      "Accuracy\n",
      "0.4545\n"
     ]
    }
   ],
   "source": [
    "#Build and Fit model\n",
    "EM_model_ICA = EM(n_components=2,covariance_type='diag',n_init=1,warm_start=True,random_state=100).fit(X_train_ICA)\n",
    "EM_model_fit_ICA = EM_model_ICA.fit(X_train_ICA,y_train_ICA)\n",
    "\n",
    "#Predict labels\n",
    "y_pred_EM_ICA =  EM_model_fit_ICA.predict(X_test_ICA)\n",
    "y_pred_EM_ICA\n",
    "\n",
    "#Churn on test set\n",
    "unique_t_ICA, counts_t_ICA = np.unique(y_test_ICA, return_counts=True)\n",
    "Churn_rate_test_ICA = counts_t_ICA / len(y_test_ICA)\n",
    "print(\"Churn on test dataset:\")\n",
    "print(Churn_rate_test_ICA)\n",
    "\n",
    "#Predicted churn\n",
    "unique_EM_ICA, counts_EM_ICA = np.unique(y_pred_EM_ICA, return_counts=True)\n",
    "Churn_rate_y_EM_ICA = counts_EM_ICA / len(y_pred_EM_ICA)\n",
    "print(\"Churned predicted by EM:\")\n",
    "print(Churn_rate_y_EM_ICA)\n",
    "#print(counts)\n",
    "#Churn_rate_y = Churn_rate.to_frame()\n",
    "#dict(zip(unique, counts))\n",
    "#counts\n",
    "\n",
    "data1 = {'y_Actual':   y_test_ICA,\n",
    "        'y_Predicted': y_pred_EM_ICA\n",
    "        }\n",
    "\n",
    "df = pd.DataFrame(data1, columns=['y_Actual','y_Predicted'])\n",
    "confusion_matrix_df = pd.crosstab(df['y_Actual'], df['y_Predicted'], rownames=['Actual'], colnames=['Predicted'])\n",
    "\n",
    "sn.heatmap(confusion_matrix_df, annot=True, fmt=\"d\")\n",
    "plt.show()\n",
    "\n",
    "#Calculate F1 and accuracy\n",
    "print(\"F1:\")\n",
    "print(f1_score(y_test_ICA,y_pred_EM_ICA))\n",
    "print(\"Accuracy\")\n",
    "print(accuracy_score(y_test_ICA,y_pred_EM_ICA))"
   ]
  },
  {
   "cell_type": "code",
   "execution_count": 54,
   "metadata": {},
   "outputs": [
    {
     "data": {
      "image/png": "[encoded data removed]",
      "text/plain": [
       "<Figure size 432x288 with 2 Axes>"
      ]
     },
     "metadata": {
      "needs_background": "light"
     },
     "output_type": "display_data"
    },
    {
     "name": "stdout",
     "output_type": "stream",
     "text": [
      "F1:\n",
      "0.33993743482794575\n",
      "Accuracy\n",
      "0.367\n"
     ]
    }
   ],
   "source": [
    "#Create confussion matrix to compare\n",
    "data1 = {'y_Actual':   y_test,\n",
    "        'y_Predicted': y_pred_EM\n",
    "        }\n",
    "\n",
    "df = pd.DataFrame(data1, columns=['y_Actual','y_Predicted'])\n",
    "confusion_matrix_df = pd.crosstab(df['y_Actual'], df['y_Predicted'], rownames=['Actual'], colnames=['Predicted'])\n",
    "\n",
    "sn.heatmap(confusion_matrix_df, annot=True, fmt=\"d\")\n",
    "plt.show()\n",
    "\n",
    "#Calculate F1 and accuracy\n",
    "print(\"F1:\")\n",
    "print(f1_score(y_test,y_pred_EM))\n",
    "print(\"Accuracy\")\n",
    "print(accuracy_score(y_test,y_pred_EM))"
   ]
  },
  {
   "cell_type": "markdown",
   "metadata": {},
   "source": [
    "## RCA"
   ]
  },
  {
   "cell_type": "code",
   "execution_count": 55,
   "metadata": {},
   "outputs": [],
   "source": [
    "#Splitting data into test and train datasets\n",
    "X_train_RCA, X_test_RCA, y_train_RCA, y_test_RCA = train_test_split(finalDf_RCA.drop(columns='Exited'), finalDf_RCA['Exited'], test_size = 0.2, random_state = 0, stratify=y)\n"
   ]
  },
  {
   "cell_type": "markdown",
   "metadata": {},
   "source": [
    "### Kmeans"
   ]
  },
  {
   "cell_type": "code",
   "execution_count": 56,
   "metadata": {},
   "outputs": [
    {
     "name": "stdout",
     "output_type": "stream",
     "text": [
      "Churn on test dataset:\n",
      "[0.7965 0.2035]\n",
      "Churned predicted by Kmeans:\n",
      "[0.5045 0.4955]\n"
     ]
    },
    {
     "data": {
      "image/png": "[encoded data removed]",
      "text/plain": [
       "<Figure size 432x288 with 2 Axes>"
      ]
     },
     "metadata": {
      "needs_background": "light"
     },
     "output_type": "display_data"
    },
    {
     "name": "stdout",
     "output_type": "stream",
     "text": [
      "F1:\n",
      "0.351931330472103\n",
      "Accuracy\n",
      "0.547\n"
     ]
    }
   ],
   "source": [
    "#Create and fit model\n",
    "KM_model_RCA = KMeans(n_clusters=2,n_init=10,random_state=100) \n",
    "KM_model_fit_RCA = KM_model_RCA.fit(X_train_RCA,y_train_RCA)\n",
    "\n",
    "#Predict label\n",
    "y_pred_RCA =  KM_model_fit_RCA.predict(X_test_RCA)\n",
    "\n",
    "#Churn on test set\n",
    "unique_t_RCA, counts_t_RCA = np.unique(y_test_RCA, return_counts=True)\n",
    "Churn_rate_test_RCA = counts_t_RCA / len(y_test_RCA)\n",
    "print(\"Churn on test dataset:\")\n",
    "print(Churn_rate_test_RCA)\n",
    "\n",
    "#Predicted churn\n",
    "unique_RCA, counts_RCA = np.unique(y_pred_RCA, return_counts=True)\n",
    "Churn_rate_y_RCA = counts_RCA / len(y_pred_RCA)\n",
    "print(\"Churned predicted by Kmeans:\")\n",
    "print(Churn_rate_y_RCA)\n",
    "#print(counts)\n",
    "#Churn_rate_y = Churn_rate.to_frame()\n",
    "dict(zip(unique_RCA, counts_RCA))\n",
    "#counts\n",
    "\n",
    "data1 = {'y_Actual':   y_test_RCA,\n",
    "        'y_Predicted': y_pred_RCA\n",
    "        }\n",
    "\n",
    "df = pd.DataFrame(data1, columns=['y_Actual','y_Predicted'])\n",
    "confusion_matrix_df = pd.crosstab(df['y_Actual'], df['y_Predicted'], rownames=['Actual'], colnames=['Predicted'])\n",
    "\n",
    "sn.heatmap(confusion_matrix_df, annot=True, fmt=\"d\")\n",
    "plt.show()\n",
    "\n",
    "#Calculate F1 and accuracy\n",
    "print(\"F1:\")\n",
    "print(f1_score(y_test_RCA,y_pred_RCA))\n",
    "print(\"Accuracy\")\n",
    "print(accuracy_score(y_test_RCA,y_pred_RCA))"
   ]
  },
  {
   "cell_type": "code",
   "execution_count": 57,
   "metadata": {},
   "outputs": [
    {
     "data": {
      "image/png": "[encoded data removed]",
      "text/plain": [
       "<Figure size 432x288 with 2 Axes>"
      ]
     },
     "metadata": {
      "needs_background": "light"
     },
     "output_type": "display_data"
    },
    {
     "name": "stdout",
     "output_type": "stream",
     "text": [
      "F1:\n",
      "0.35117773019271953\n",
      "Accuracy\n",
      "0.5455\n"
     ]
    }
   ],
   "source": [
    "#Reprint original cf to compare\n",
    "data1 = {'y_Actual':   y_test,\n",
    "        'y_Predicted': y_pred\n",
    "        }\n",
    "\n",
    "df = pd.DataFrame(data1, columns=['y_Actual','y_Predicted'])\n",
    "confusion_matrix_df = pd.crosstab(df['y_Actual'], df['y_Predicted'], rownames=['Actual'], colnames=['Predicted'])\n",
    "\n",
    "sn.heatmap(confusion_matrix_df, annot=True, fmt=\"d\")\n",
    "plt.show()\n",
    "\n",
    "#Calculate F1 and accuray score\n",
    "print(\"F1:\")\n",
    "print(f1_score(y_test,y_pred))\n",
    "print(\"Accuracy\")\n",
    "print(accuracy_score(y_test,y_pred))"
   ]
  },
  {
   "cell_type": "markdown",
   "metadata": {},
   "source": [
    "### EM"
   ]
  },
  {
   "cell_type": "code",
   "execution_count": 58,
   "metadata": {},
   "outputs": [
    {
     "name": "stdout",
     "output_type": "stream",
     "text": [
      "Churn on test dataset:\n",
      "[0.7965 0.2035]\n",
      "Churned predicted by EM:\n",
      "[0.5035 0.4965]\n"
     ]
    },
    {
     "data": {
      "image/png": "[encoded data removed]",
      "text/plain": [
       "<Figure size 432x288 with 2 Axes>"
      ]
     },
     "metadata": {
      "needs_background": "light"
     },
     "output_type": "display_data"
    },
    {
     "name": "stdout",
     "output_type": "stream",
     "text": [
      "F1:\n",
      "0.35571428571428576\n",
      "Accuracy\n",
      "0.549\n"
     ]
    }
   ],
   "source": [
    "#Build and Fit model\n",
    "EM_model_RCA = EM(n_components=2,covariance_type='diag',n_init=1,warm_start=True,random_state=100).fit(X_train_RCA)\n",
    "EM_model_fit_RCA = EM_model_RCA.fit(X_train_RCA,y_train_RCA)\n",
    "\n",
    "#Predict labels\n",
    "y_pred_EM_RCA =  EM_model_fit_RCA.predict(X_test_RCA)\n",
    "y_pred_EM_RCA\n",
    "\n",
    "#Churn on test set\n",
    "unique_t_RCA, counts_t_RCA = np.unique(y_test_RCA, return_counts=True)\n",
    "Churn_rate_test_RCA = counts_t_RCA / len(y_test_RCA)\n",
    "print(\"Churn on test dataset:\")\n",
    "print(Churn_rate_test_RCA)\n",
    "\n",
    "#Predicted churn\n",
    "unique_EM_RCA, counts_EM_RCA = np.unique(y_pred_EM_RCA, return_counts=True)\n",
    "Churn_rate_y_EM_RCA = counts_EM_RCA / len(y_pred_EM_RCA)\n",
    "print(\"Churned predicted by EM:\")\n",
    "print(Churn_rate_y_EM_RCA)\n",
    "#print(counts)\n",
    "#Churn_rate_y = Churn_rate.to_frame()\n",
    "#dict(zip(unique, counts))\n",
    "#counts\n",
    "\n",
    "#Create confussion matrix to compare\n",
    "#cm= confusion_matrix(y_test,y_pred)\n",
    "\n",
    "#Confusion Matrix \n",
    "#tn, fp, fn, tp = cm.ravel()\n",
    "#print(tn, fp, fn, tp)\n",
    "\n",
    "data1 = {'y_Actual':   y_test_RCA,\n",
    "        'y_Predicted': y_pred_EM_RCA\n",
    "        }\n",
    "\n",
    "df = pd.DataFrame(data1, columns=['y_Actual','y_Predicted'])\n",
    "confusion_matrix_df = pd.crosstab(df['y_Actual'], df['y_Predicted'], rownames=['Actual'], colnames=['Predicted'])\n",
    "\n",
    "sn.heatmap(confusion_matrix_df, annot=True, fmt=\"d\")\n",
    "plt.show()\n",
    "\n",
    "#Calculate F1 and accuracy\n",
    "print(\"F1:\")\n",
    "print(f1_score(y_test_RCA,y_pred_EM_RCA))\n",
    "print(\"Accuracy\")\n",
    "print(accuracy_score(y_test_RCA,y_pred_EM_RCA))"
   ]
  },
  {
   "cell_type": "code",
   "execution_count": 59,
   "metadata": {},
   "outputs": [
    {
     "data": {
      "image/png": "[encoded data removed]",
      "text/plain": [
       "<Figure size 432x288 with 2 Axes>"
      ]
     },
     "metadata": {
      "needs_background": "light"
     },
     "output_type": "display_data"
    },
    {
     "name": "stdout",
     "output_type": "stream",
     "text": [
      "F1:\n",
      "0.33993743482794575\n",
      "Accuracy\n",
      "0.367\n"
     ]
    }
   ],
   "source": [
    "#Create confussion matrix to compare\n",
    "data1 = {'y_Actual':   y_test,\n",
    "        'y_Predicted': y_pred_EM\n",
    "        }\n",
    "\n",
    "df = pd.DataFrame(data1, columns=['y_Actual','y_Predicted'])\n",
    "confusion_matrix_df = pd.crosstab(df['y_Actual'], df['y_Predicted'], rownames=['Actual'], colnames=['Predicted'])\n",
    "\n",
    "sn.heatmap(confusion_matrix_df, annot=True, fmt=\"d\")\n",
    "plt.show()\n",
    "\n",
    "#Calculate F1 and accuracy\n",
    "print(\"F1:\")\n",
    "print(f1_score(y_test,y_pred_EM))\n",
    "print(\"Accuracy\")\n",
    "print(accuracy_score(y_test,y_pred_EM))"
   ]
  },
  {
   "cell_type": "markdown",
   "metadata": {},
   "source": [
    "### LDA"
   ]
  },
  {
   "cell_type": "code",
   "execution_count": 60,
   "metadata": {},
   "outputs": [],
   "source": [
    "#Transformation by LDA\n",
    "lda_1 = LDA(n_components = 1, solver='eigen', shrinkage='auto')\n",
    "X_train_lda = lda_1.fit_transform(X_train, y_train)\n",
    "X_test_lda = lda_1.transform(X_test)"
   ]
  },
  {
   "cell_type": "code",
   "execution_count": 61,
   "metadata": {},
   "outputs": [],
   "source": [
    "sc3 = StandardScaler()\n",
    "X_train_lda_sc = sc3.fit_transform(X_train_lda)\n",
    "X_test_lda_sc = sc3.transform(X_test_lda)"
   ]
  },
  {
   "cell_type": "markdown",
   "metadata": {},
   "source": [
    "### Kmeans"
   ]
  },
  {
   "cell_type": "code",
   "execution_count": 62,
   "metadata": {},
   "outputs": [
    {
     "name": "stdout",
     "output_type": "stream",
     "text": [
      "Churn on test dataset:\n",
      "[0.7965 0.2035]\n",
      "Churned predicted by Kmeans:\n",
      "[0.5605 0.4395]\n"
     ]
    },
    {
     "data": {
      "image/png": "[encoded data removed]",
      "text/plain": [
       "<Figure size 432x288 with 2 Axes>"
      ]
     },
     "metadata": {
      "needs_background": "light"
     },
     "output_type": "display_data"
    },
    {
     "name": "stdout",
     "output_type": "stream",
     "text": [
      "F1:\n",
      "0.48211508553654747\n",
      "Accuracy\n",
      "0.667\n"
     ]
    }
   ],
   "source": [
    "#Create and fit model\n",
    "KM_model_LDA = KMeans(n_clusters=2,n_init=10,random_state=100) \n",
    "KM_model_fit_LDA = KM_model_LDA.fit(X_train_lda_sc,y_train)\n",
    "\n",
    "#Predict label\n",
    "y_pred_LDA =  KM_model_fit_LDA.predict(X_test_lda_sc)\n",
    "\n",
    "#Churn on test set\n",
    "unique_t_LDA, counts_t_LDA = np.unique(y_test, return_counts=True)\n",
    "Churn_rate_test_LDA = counts_t_LDA / len(y_test)\n",
    "print(\"Churn on test dataset:\")\n",
    "print(Churn_rate_test_LDA)\n",
    "\n",
    "#Predicted churn\n",
    "unique_LDA, counts_LDA = np.unique(y_pred_LDA, return_counts=True)\n",
    "Churn_rate_y_LDA = counts_LDA / len(y_pred_LDA)\n",
    "print(\"Churned predicted by Kmeans:\")\n",
    "print(Churn_rate_y_LDA)\n",
    "#print(counts)\n",
    "#Churn_rate_y = Churn_rate.to_frame()\n",
    "dict(zip(unique_LDA, counts_LDA))\n",
    "#counts\n",
    "\n",
    "data1 = {'y_Actual':   y_test,\n",
    "        'y_Predicted': y_pred_LDA\n",
    "        }\n",
    "\n",
    "df = pd.DataFrame(data1, columns=['y_Actual','y_Predicted'])\n",
    "confusion_matrix_df = pd.crosstab(df['y_Actual'], df['y_Predicted'], rownames=['Actual'], colnames=['Predicted'])\n",
    "\n",
    "sn.heatmap(confusion_matrix_df, annot=True, fmt=\"d\")\n",
    "plt.show()\n",
    "\n",
    "#Calculate F1 and accuracy\n",
    "print(\"F1:\")\n",
    "print(f1_score(y_test,y_pred_LDA))\n",
    "print(\"Accuracy\")\n",
    "print(accuracy_score(y_test,y_pred_LDA))"
   ]
  },
  {
   "cell_type": "code",
   "execution_count": 63,
   "metadata": {},
   "outputs": [
    {
     "data": {
      "image/png": "[encoded data removed]",
      "text/plain": [
       "<Figure size 432x288 with 2 Axes>"
      ]
     },
     "metadata": {
      "needs_background": "light"
     },
     "output_type": "display_data"
    },
    {
     "name": "stdout",
     "output_type": "stream",
     "text": [
      "F1:\n",
      "0.35117773019271953\n",
      "Accuracy\n",
      "0.5455\n"
     ]
    }
   ],
   "source": [
    "#Reprint original cf to compare\n",
    "data1 = {'y_Actual':   y_test,\n",
    "        'y_Predicted': y_pred\n",
    "        }\n",
    "\n",
    "df = pd.DataFrame(data1, columns=['y_Actual','y_Predicted'])\n",
    "confusion_matrix_df = pd.crosstab(df['y_Actual'], df['y_Predicted'], rownames=['Actual'], colnames=['Predicted'])\n",
    "\n",
    "sn.heatmap(confusion_matrix_df, annot=True, fmt=\"d\")\n",
    "plt.show()\n",
    "\n",
    "#Calculate F1 and accuray score\n",
    "print(\"F1:\")\n",
    "print(f1_score(y_test,y_pred))\n",
    "print(\"Accuracy\")\n",
    "print(accuracy_score(y_test,y_pred))"
   ]
  },
  {
   "cell_type": "markdown",
   "metadata": {},
   "source": [
    "### EM"
   ]
  },
  {
   "cell_type": "code",
   "execution_count": 64,
   "metadata": {},
   "outputs": [
    {
     "name": "stdout",
     "output_type": "stream",
     "text": [
      "Churn on test dataset:\n",
      "[0.7965 0.2035]\n",
      "Churned predicted by EM:\n",
      "[0.641 0.359]\n"
     ]
    },
    {
     "data": {
      "image/png": "[encoded data removed]",
      "text/plain": [
       "<Figure size 432x288 with 2 Axes>"
      ]
     },
     "metadata": {
      "needs_background": "light"
     },
     "output_type": "display_data"
    },
    {
     "name": "stdout",
     "output_type": "stream",
     "text": [
      "F1:\n",
      "0.4924444444444444\n",
      "Accuracy\n",
      "0.7145\n"
     ]
    }
   ],
   "source": [
    "#Build and Fit model\n",
    "EM_model_LDA = EM(n_components=2,covariance_type='diag',n_init=1,warm_start=True,random_state=100).fit(X_train_lda_sc)\n",
    "EM_model_fit_LDA = EM_model_LDA.fit(X_train_lda_sc,y_train)\n",
    "\n",
    "#Predict labels\n",
    "y_pred_EM_LDA =  EM_model_fit_LDA.predict(X_test_lda_sc)\n",
    "y_pred_EM_LDA\n",
    "\n",
    "#Churn on test set\n",
    "unique_t_LDA, counts_t_LDA = np.unique(y_test, return_counts=True)\n",
    "Churn_rate_test_LDA = counts_t_LDA / len(y_test)\n",
    "print(\"Churn on test dataset:\")\n",
    "print(Churn_rate_test_LDA)\n",
    "\n",
    "#Predicted churn\n",
    "unique_EM_LDA, counts_EM_LDA = np.unique(y_pred_EM_LDA, return_counts=True)\n",
    "Churn_rate_y_EM_LDA = counts_EM_LDA / len(y_pred_EM_LDA)\n",
    "print(\"Churned predicted by EM:\")\n",
    "print(Churn_rate_y_EM_LDA)\n",
    "#print(counts)\n",
    "#Churn_rate_y = Churn_rate.to_frame()\n",
    "#dict(zip(unique, counts))\n",
    "#counts\n",
    "\n",
    "#Create confussion matrix to compare\n",
    "#cm= confusion_matrix(y_test,y_pred)\n",
    "\n",
    "#Confusion Matrix \n",
    "#tn, fp, fn, tp = cm.ravel()\n",
    "#print(tn, fp, fn, tp)\n",
    "\n",
    "data1 = {'y_Actual':   y_test,\n",
    "        'y_Predicted': y_pred_EM_LDA\n",
    "        }\n",
    "\n",
    "df = pd.DataFrame(data1, columns=['y_Actual','y_Predicted'])\n",
    "confusion_matrix_df = pd.crosstab(df['y_Actual'], df['y_Predicted'], rownames=['Actual'], colnames=['Predicted'])\n",
    "\n",
    "sn.heatmap(confusion_matrix_df, annot=True, fmt=\"d\")\n",
    "plt.show()\n",
    "\n",
    "#Calculate F1 and accuracy\n",
    "print(\"F1:\")\n",
    "print(f1_score(y_test,y_pred_EM_LDA))\n",
    "print(\"Accuracy\")\n",
    "print(accuracy_score(y_test,y_pred_EM_LDA))"
   ]
  },
  {
   "cell_type": "code",
   "execution_count": 65,
   "metadata": {},
   "outputs": [
    {
     "data": {
      "image/png": "[encoded data removed]",
      "text/plain": [
       "<Figure size 432x288 with 2 Axes>"
      ]
     },
     "metadata": {
      "needs_background": "light"
     },
     "output_type": "display_data"
    },
    {
     "name": "stdout",
     "output_type": "stream",
     "text": [
      "F1:\n",
      "0.33993743482794575\n",
      "Accuracy\n",
      "0.367\n"
     ]
    }
   ],
   "source": [
    "#Create confussion matrix to compare\n",
    "data1 = {'y_Actual':   y_test,\n",
    "        'y_Predicted': y_pred_EM\n",
    "        }\n",
    "\n",
    "df = pd.DataFrame(data1, columns=['y_Actual','y_Predicted'])\n",
    "confusion_matrix_df = pd.crosstab(df['y_Actual'], df['y_Predicted'], rownames=['Actual'], colnames=['Predicted'])\n",
    "\n",
    "sn.heatmap(confusion_matrix_df, annot=True, fmt=\"d\")\n",
    "plt.show()\n",
    "\n",
    "#Calculate F1 and accuracy\n",
    "print(\"F1:\")\n",
    "print(f1_score(y_test,y_pred_EM))\n",
    "print(\"Accuracy\")\n",
    "print(accuracy_score(y_test,y_pred_EM))"
   ]
  },
  {
   "cell_type": "code",
   "execution_count": null,
   "metadata": {},
   "outputs": [],
   "source": []
  },
  {
   "cell_type": "code",
   "execution_count": null,
   "metadata": {},
   "outputs": [],
   "source": []
  },
  {
   "cell_type": "code",
   "execution_count": null,
   "metadata": {},
   "outputs": [],
   "source": []
  },
  {
   "cell_type": "markdown",
   "metadata": {},
   "source": [
    "# Run NN"
   ]
  },
  {
   "cell_type": "markdown",
   "metadata": {},
   "source": [
    "## STD Data"
   ]
  },
  {
   "cell_type": "code",
   "execution_count": 66,
   "metadata": {},
   "outputs": [
    {
     "name": "stdout",
     "output_type": "stream",
     "text": [
      "Accuracy: 0.855\n",
      "[[0.8134324 0.1865676]]\n"
     ]
    }
   ],
   "source": [
    "##Neuronal Network\n",
    "from sklearn.neural_network import MLPClassifier\n",
    "#NN = MLPClassifier(solver='lbfgs', alpha=1e-5,hidden_layer_sizes=(5, 2), random_state=1)\n",
    "\n",
    "\n",
    "#Default\n",
    "NN_d = MLPClassifier(max_iter=25)\n",
    "\n",
    "NN_d.fit(X_train, y_train)\n",
    "asd = NN_d.predict_proba(X_test[:1])\n",
    "y_pred_NN_d = NN_d.predict(X_test)\n",
    "\n",
    "print(\"Accuracy:\",metrics.accuracy_score(y_test, y_pred_NN_d))\n",
    "print(asd)\n",
    "#cross_val_score(clf, iris.data, iris.target, cv=10)\n",
    "\n",
    " "
   ]
  },
  {
   "cell_type": "code",
   "execution_count": 67,
   "metadata": {},
   "outputs": [
    {
     "data": {
      "image/png": "[encoded data removed]",
      "text/plain": [
       "<Figure size 1800x360 with 4 Axes>"
      ]
     },
     "metadata": {
      "needs_background": "light"
     },
     "output_type": "display_data"
    },
    {
     "name": "stdout",
     "output_type": "stream",
     "text": [
      "Accuracy: 0.857\n"
     ]
    }
   ],
   "source": [
    "g_NN_d = plot_learning_curve(NN_d.fit(X_train, y_train), \"Neural Network learning curves\", X_train, y_train,\n",
    "                        ylim = [1.01, 0.7], cv = 5, \n",
    "                        train_sizes = [0.05, 0.1, 0.2, 0.3, 0.4, 0.5, 0.6, 0.7, 0.8, 0.9, 1])\n",
    "plt.show()\n",
    "\n",
    "NN_d_2 = NN_d.fit(X_train, y_train)\n",
    "y_pred_NN_d_2 = NN_d_2.predict(X_test)\n",
    "\n",
    "print(\"Accuracy:\",metrics.accuracy_score(y_test, y_pred_NN_d_2))\n",
    "#cross_val_score(clf, iris.data, iris.target, cv=10)\n",
    "#cross_val_score(clf, iris.data, iris.target, cv=10)"
   ]
  },
  {
   "cell_type": "code",
   "execution_count": 68,
   "metadata": {},
   "outputs": [
    {
     "name": "stdout",
     "output_type": "stream",
     "text": [
      "              precision    recall  f1-score   support\n",
      "\n",
      "           0       0.87      0.97      0.91      1593\n",
      "           1       0.76      0.42      0.54       407\n",
      "\n",
      "    accuracy                           0.85      2000\n",
      "   macro avg       0.81      0.69      0.73      2000\n",
      "weighted avg       0.85      0.85      0.84      2000\n",
      "\n"
     ]
    }
   ],
   "source": [
    "print(classification_report(y_test, y_pred_NN_d))\n",
    "\n",
    "#Checking performance our model with ROC Score.\n",
    "#roc_auc_score(y_test, y_pred_NN_d)"
   ]
  },
  {
   "cell_type": "code",
   "execution_count": null,
   "metadata": {},
   "outputs": [],
   "source": [
    "NN_GS = MLPClassifier(max_iter=100)\n",
    "parameter_space = {\n",
    "    'hidden_layer_sizes': [(10,30,10),(20,)],\n",
    "    'activation': ['tanh', 'relu'],\n",
    "    'solver': ['sgd', 'adam'],\n",
    "    'alpha': [0.0001, 0.05, 0.5],\n",
    "    'learning_rate': ['constant','adaptive',]\n",
    "    #'max_iter': [25,50,75,100,125,150,175,200],\n",
    "}\n",
    "\n",
    "NN_GSed = GridSearchCV(NN_GS, parameter_space, n_jobs=-1, cv=5)\n",
    "NN_GSed.fit(X_train, y_train) # X is train samples and y is the corresponding labels\n",
    "\n",
    "print('Best parameters found:\\n', NN_GSed.best_params_)\n",
    "#DT_GS = clf_GS.best_estimator_.get_params()['dec_tree']\n",
    "#DT_GS.fit(X_train, y_train)\n",
    "#y_pred = DT_GS.predict(X_test)\n",
    "\n",
    "#print(\"Accuracy:\",metrics.accuracy_score(y_test, y_pred))\n",
    "#cross_val_score(clf, iris.data, iris.target, cv=10)\n"
   ]
  },
  {
   "cell_type": "code",
   "execution_count": null,
   "metadata": {},
   "outputs": [],
   "source": [
    "NN = MLPClassifier(activation= 'relu', alpha= 0.5, hidden_layer_sizes= (10, 30, 10), learning_rate= 'adaptive', solver= 'adam')\n",
    "\n",
    "g_NN = plot_learning_curve(NN.fit(X_train, y_train), \"Neural Network learning curves\", X_train, y_train,\n",
    "                        ylim = [1.01, 0.7], cv = 5, \n",
    "                        train_sizes = [0.05, 0.1, 0.2, 0.3, 0.4, 0.5, 0.6, 0.7, 0.8, 0.9, 1])\n",
    "plt.show()\n",
    "\n",
    "NN_2 = NN.fit(X_train, y_train)\n",
    "y_pred_NN_2 = NN_2.predict(X_test)\n",
    "\n",
    "print(\"Accuracy:\",metrics.accuracy_score(y_test, y_pred_NN_2))\n",
    "#cross_val_score(clf, iris.data, iris.target, cv=10)\n",
    "#cross_val_score(clf, iris.data, iris.target, cv=10)"
   ]
  },
  {
   "cell_type": "code",
   "execution_count": null,
   "metadata": {},
   "outputs": [],
   "source": [
    "print(classification_report(y_test, y_pred_NN_2))\n",
    "\n",
    "#Checking performance our model with ROC Score.\n",
    "#roc_auc_score(y_test, y_pred_NN_2)"
   ]
  },
  {
   "cell_type": "code",
   "execution_count": null,
   "metadata": {},
   "outputs": [],
   "source": [
    "#Confusion Matrix - default\n",
    "y_pred_m_NN_d = NN_d.predict(X_test)\n",
    "print(confusion_matrix(y_test,y_pred_m_NN_d))\n",
    "tn, fp, fn, tp = confusion_matrix(y_test,y_pred_m_NN_d).ravel()\n",
    "#print(tn, fp, fn, tp)\n",
    "\n",
    "data1 = {'y_Actual':   y_test,\n",
    "        'y_Predicted': y_pred_m_NN_d\n",
    "        }\n",
    "\n",
    "df = pd.DataFrame(data1, columns=['y_Actual','y_Predicted'])\n",
    "confusion_matrix_df = pd.crosstab(df['y_Actual'], df['y_Predicted'], rownames=['Actual'], colnames=['Predicted'])\n",
    "\n",
    "sn.heatmap(confusion_matrix_df, annot=True, fmt=\"d\")\n",
    "plt.show()"
   ]
  },
  {
   "cell_type": "code",
   "execution_count": null,
   "metadata": {},
   "outputs": [],
   "source": [
    "#Confusion Matrix - default\n",
    "y_pred_m_NN = NN_2.predict(X_test)\n",
    "print(confusion_matrix(y_test,y_pred_m_NN))\n",
    "tn, fp, fn, tp = confusion_matrix(y_test,y_pred_m_NN).ravel()\n",
    "#print(tn, fp, fn, tp)\n",
    "\n",
    "data1 = {'y_Actual':   y_test,\n",
    "        'y_Predicted': y_pred_m_NN\n",
    "        }\n",
    "\n",
    "df = pd.DataFrame(data1, columns=['y_Actual','y_Predicted'])\n",
    "confusion_matrix_df = pd.crosstab(df['y_Actual'], df['y_Predicted'], rownames=['Actual'], colnames=['Predicted'])\n",
    "\n",
    "sn.heatmap(confusion_matrix_df, annot=True, fmt=\"d\")\n",
    "plt.show()"
   ]
  },
  {
   "cell_type": "markdown",
   "metadata": {},
   "source": [
    "## PCA Data"
   ]
  },
  {
   "cell_type": "code",
   "execution_count": null,
   "metadata": {},
   "outputs": [],
   "source": [
    "NN_GS_PCA = MLPClassifier(max_iter=100)\n",
    "parameter_space = {\n",
    "    'hidden_layer_sizes': [(10,30,10),(20,)],\n",
    "    'activation': ['tanh', 'relu'],\n",
    "    'solver': ['sgd', 'adam'],\n",
    "    'alpha': [0.0001, 0.05, 0.5],\n",
    "    'learning_rate': ['constant','adaptive',]\n",
    "    #'max_iter': [25,50,75,100,125,150,175,200],\n",
    "}\n",
    "\n",
    "NN_GSed_PCA = GridSearchCV(NN_GS_PCA, parameter_space, n_jobs=-1, cv=5)\n",
    "NN_GSed_PCA.fit(X_train_PCA, y_train_PCA) # X is train samples and y is the corresponding labels\n",
    "\n",
    "print('Best parameters found:\\n', NN_GSed_PCA.best_params_)\n",
    "\n"
   ]
  },
  {
   "cell_type": "code",
   "execution_count": null,
   "metadata": {},
   "outputs": [],
   "source": [
    "NN_PCA = MLPClassifier(activation= 'relu', alpha= 0.5, hidden_layer_sizes= (10, 30, 10), learning_rate= 'constant', solver= 'adam')\n",
    "\n",
    "g_NN_PCA = plot_learning_curve(NN_PCA.fit(X_train_PCA, y_train_PCA), \"Neural Network PCA learning curves\", X_train_PCA, y_train_PCA,\n",
    "                        ylim = [0.7,1.01], cv = 5, \n",
    "                        train_sizes = [0.05, 0.1, 0.2, 0.3, 0.4, 0.5, 0.6, 0.7, 0.8, 0.9, 1])\n",
    "plt.show()\n",
    "\n",
    "NN_2_PCA = NN_PCA.fit(X_train_PCA, y_train_PCA)\n",
    "y_pred_NN_2_PCA = NN_2_PCA.predict(X_test_PCA)\n",
    "\n",
    "print(\"Accuracy:\",metrics.accuracy_score(y_test_PCA, y_pred_NN_2_PCA))\n",
    "print(classification_report(y_test_PCA, y_pred_NN_2_PCA))"
   ]
  },
  {
   "cell_type": "code",
   "execution_count": null,
   "metadata": {},
   "outputs": [],
   "source": [
    "#Confusion Matrix - PCA\n",
    "y_pred_m_NN_PCA = NN_2_PCA.predict(X_test_PCA)\n",
    "print(confusion_matrix(y_test_PCA,y_pred_m_NN_PCA))\n",
    "tn, fp, fn, tp = confusion_matrix(y_test_PCA,y_pred_m_NN_PCA).ravel()\n",
    "#print(tn, fp, fn, tp)\n",
    "\n",
    "data1 = {'y_Actual':   y_test_PCA,\n",
    "        'y_Predicted': y_pred_m_NN_PCA\n",
    "        }\n",
    "\n",
    "df = pd.DataFrame(data1, columns=['y_Actual','y_Predicted'])\n",
    "confusion_matrix_df = pd.crosstab(df['y_Actual'], df['y_Predicted'], rownames=['Actual'], colnames=['Predicted'])\n",
    "\n",
    "sn.heatmap(confusion_matrix_df, annot=True, fmt=\"d\")\n",
    "plt.show()"
   ]
  },
  {
   "cell_type": "markdown",
   "metadata": {},
   "source": [
    "## ICA Data"
   ]
  },
  {
   "cell_type": "code",
   "execution_count": null,
   "metadata": {},
   "outputs": [],
   "source": [
    "NN_GS_ICA = MLPClassifier(max_iter=100)\n",
    "parameter_space = {\n",
    "    'hidden_layer_sizes': [(10,30,10),(20,)],\n",
    "    'activation': ['tanh', 'relu'],\n",
    "    'solver': ['sgd', 'adam'],\n",
    "    'alpha': [0.0001, 0.05, 0.5],\n",
    "    'learning_rate': ['constant','adaptive',]\n",
    "    #'max_iter': [25,50,75,100,125,150,175,200],\n",
    "}\n",
    "\n",
    "NN_GSed_ICA = GridSearchCV(NN_GS_ICA, parameter_space, n_jobs=-1, cv=5)\n",
    "NN_GSed_ICA.fit(X_train_ICA, y_train_ICA) # X is train samples and y is the corresponding labels\n",
    "\n",
    "print('Best parameters found:\\n', NN_GSed_ICA.best_params_)\n",
    "\n"
   ]
  },
  {
   "cell_type": "code",
   "execution_count": null,
   "metadata": {},
   "outputs": [],
   "source": [
    "NN_ICA = MLPClassifier(activation= 'tanh', alpha= 0.0001, hidden_layer_sizes= (20,), learning_rate= 'constant', solver= 'adam')\n",
    "\n",
    "g_NN_ICA = plot_learning_curve(NN_ICA.fit(X_train_ICA, y_train_ICA), \"Neural Network ICA learning curves\", X_train_ICA, y_train_ICA,\n",
    "                        ylim = [0.7,1.01], cv = 5, \n",
    "                        train_sizes = [0.05, 0.1, 0.2, 0.3, 0.4, 0.5, 0.6, 0.7, 0.8, 0.9, 1])\n",
    "plt.show()\n",
    "\n",
    "NN_2_ICA = NN_ICA.fit(X_train_ICA, y_train_ICA)\n",
    "y_pred_NN_2_ICA = NN_2_ICA.predict(X_test_ICA)\n",
    "\n",
    "print(\"Accuracy:\",metrics.accuracy_score(y_test_ICA, y_pred_NN_2_ICA))\n",
    "print(classification_report(y_test_ICA, y_pred_NN_2_ICA))"
   ]
  },
  {
   "cell_type": "code",
   "execution_count": null,
   "metadata": {},
   "outputs": [],
   "source": [
    "#Confusion Matrix - ICA\n",
    "y_pred_m_NN_ICA = NN_2_ICA.predict(X_test_ICA)\n",
    "print(confusion_matrix(y_test_ICA,y_pred_m_NN_ICA))\n",
    "tn, fp, fn, tp = confusion_matrix(y_test_ICA,y_pred_m_NN_ICA).ravel()\n",
    "#print(tn, fp, fn, tp)\n",
    "\n",
    "data1 = {'y_Actual':   y_test_ICA,\n",
    "        'y_Predicted': y_pred_m_NN_ICA\n",
    "        }\n",
    "\n",
    "df = pd.DataFrame(data1, columns=['y_Actual','y_Predicted'])\n",
    "confusion_matrix_df = pd.crosstab(df['y_Actual'], df['y_Predicted'], rownames=['Actual'], colnames=['Predicted'])\n",
    "\n",
    "sn.heatmap(confusion_matrix_df, annot=True, fmt=\"d\")\n",
    "plt.show()"
   ]
  },
  {
   "cell_type": "code",
   "execution_count": null,
   "metadata": {},
   "outputs": [],
   "source": []
  },
  {
   "cell_type": "code",
   "execution_count": null,
   "metadata": {},
   "outputs": [],
   "source": []
  },
  {
   "cell_type": "code",
   "execution_count": null,
   "metadata": {},
   "outputs": [],
   "source": []
  },
  {
   "cell_type": "code",
   "execution_count": null,
   "metadata": {},
   "outputs": [],
   "source": []
  },
  {
   "cell_type": "code",
   "execution_count": null,
   "metadata": {},
   "outputs": [],
   "source": []
  },
  {
   "cell_type": "code",
   "execution_count": null,
   "metadata": {},
   "outputs": [],
   "source": []
  }
 ],
 "metadata": {
  "environment": {
   "name": "tf2-2-3-gpu.2-3.m55",
   "type": "gcloud",
   "uri": "gcr.io/deeplearning-platform-release/tf2-2-3-gpu.2-3:m55"
  },
  "kernelspec": {
   "display_name": "Python 3",
   "language": "python",
   "name": "python3"
  },
  "language_info": {
   "codemirror_mode": {
    "name": "ipython",
    "version": 3
   },
   "file_extension": ".py",
   "mimetype": "text/x-python",
   "name": "python",
   "nbconvert_exporter": "python",
   "pygments_lexer": "ipython3",
   "version": "3.7.8"
  }
 },
 "nbformat": 4,
 "nbformat_minor": 4
}
